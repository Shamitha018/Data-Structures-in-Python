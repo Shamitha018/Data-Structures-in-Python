{
  "nbformat": 4,
  "nbformat_minor": 0,
  "metadata": {
    "colab": {
      "provenance": []
    },
    "kernelspec": {
      "name": "python3",
      "display_name": "Python 3"
    },
    "language_info": {
      "name": "python"
    }
  },
  "cells": [
    {
      "cell_type": "markdown",
      "source": [
        "# Lists: len(), append(), pop(), insert(), remove(), slicing"
      ],
      "metadata": {
        "id": "NWzQg-hWVZAz"
      }
    },
    {
      "cell_type": "markdown",
      "source": [
        "##1. Creating and finding length of a list\n",
        "Create a list of ingredients `['Milk', 'Sugar', 'Cream']` and print its length."
      ],
      "metadata": {
        "id": "UQTOw5pVVcim"
      }
    },
    {
      "cell_type": "code",
      "execution_count": 17,
      "metadata": {
        "colab": {
          "base_uri": "https://localhost:8080/"
        },
        "id": "-BgxxFHwVRx6",
        "outputId": "56d56907-25d4-4f2f-9233-8629135f16d7"
      },
      "outputs": [
        {
          "output_type": "stream",
          "name": "stdout",
          "text": [
            "Length of grocery list is 3.\n"
          ]
        }
      ],
      "source": [
        "grocery = ['Milk', 'Sugar', 'Cream']\n",
        "print(f\"Length of grocery list is {len(grocery)}.\")"
      ]
    },
    {
      "cell_type": "markdown",
      "source": [
        "##2. Adding an item with `append()`\n",
        "Add \"Mango Pulp\" to the end of the `ingredients` list from the previous problem and\n",
        "print the updated list."
      ],
      "metadata": {
        "id": "ToXu9crjWDiP"
      }
    },
    {
      "cell_type": "code",
      "source": [
        "grocery.append(\"Mango Pulp\")\n",
        "print(f\"The updated list is {grocery}\")"
      ],
      "metadata": {
        "colab": {
          "base_uri": "https://localhost:8080/"
        },
        "id": "fI4h2jU1WGFD",
        "outputId": "df59fe8c-1ec2-46a4-c3ea-77f7d512ddad"
      },
      "execution_count": 18,
      "outputs": [
        {
          "output_type": "stream",
          "name": "stdout",
          "text": [
            "The updated list is ['Milk', 'Sugar', 'Cream', 'Mango Pulp']\n"
          ]
        }
      ]
    },
    {
      "cell_type": "markdown",
      "source": [
        "##3. Removing the last item with `pop()`\n",
        "Remove the last item from the updated list using `pop()` and print the removed item as\n",
        "well as the new list."
      ],
      "metadata": {
        "id": "gn3Uo7dhWPYK"
      }
    },
    {
      "cell_type": "code",
      "source": [
        "print(f\"removing the last item from our list using pop:'{grocery.pop()}'\")\n",
        "print(f\"The new list is {grocery}\")"
      ],
      "metadata": {
        "colab": {
          "base_uri": "https://localhost:8080/"
        },
        "id": "jkhagEcsWSQY",
        "outputId": "49ff5ab0-c316-4ab3-8564-625a8a3c577a"
      },
      "execution_count": 19,
      "outputs": [
        {
          "output_type": "stream",
          "name": "stdout",
          "text": [
            "removing the last item from our list using pop:'Mango Pulp'\n",
            "The new list is ['Milk', 'Sugar', 'Cream']\n"
          ]
        }
      ]
    },
    {
      "cell_type": "markdown",
      "source": [
        "##4. Adding an item at a specific position with `insert()`\n",
        "Insert \"Vanilla Extract\" at the second position (index 1) of the list `['Milk', 'Sugar', 'Cream']`\n",
        "and print the new list."
      ],
      "metadata": {
        "id": "mhHbPaDQWyOM"
      }
    },
    {
      "cell_type": "code",
      "source": [
        "grocery.insert(1, \"Vanilla Extract\")\n",
        "print(f\"The new list with inserted item is {grocery}\")"
      ],
      "metadata": {
        "colab": {
          "base_uri": "https://localhost:8080/"
        },
        "id": "f_R8PB0LW1V-",
        "outputId": "bc99cb61-49e5-4d21-c008-c4e49b9f8d81"
      },
      "execution_count": 20,
      "outputs": [
        {
          "output_type": "stream",
          "name": "stdout",
          "text": [
            "The new list with inserted item is ['Milk', 'Vanilla Extract', 'Sugar', 'Cream']\n"
          ]
        }
      ]
    },
    {
      "cell_type": "markdown",
      "source": [
        "##5. Removing a specific item with `remove()`\n",
        "From the list `['Vanilla', 'Chocolate', 'Strawberry']`, remove the item \"Chocolate\" and print\n",
        "the final list."
      ],
      "metadata": {
        "id": "ZMnClcHVXGB2"
      }
    },
    {
      "cell_type": "code",
      "source": [
        "flavours = ['Vanilla', 'Chocolate', 'Strawberry']\n",
        "flavours.remove(\"Chocolate\")\n",
        "print(f\"final list after removing an item is : {flavours}\")"
      ],
      "metadata": {
        "colab": {
          "base_uri": "https://localhost:8080/"
        },
        "id": "YY8tYCyTXHSv",
        "outputId": "052fdc77-0884-43a5-9667-0f5d4730d875"
      },
      "execution_count": 22,
      "outputs": [
        {
          "output_type": "stream",
          "name": "stdout",
          "text": [
            "final list after removing an item is : ['Vanilla', 'Strawberry']\n"
          ]
        }
      ]
    },
    {
      "cell_type": "markdown",
      "source": [
        "##6. Forward slicing\n",
        "You have a list of weekly sales data `[12000, 15000, 9000, 18000, 20000]`. Create a new list\n",
        "containing only the sales from the first three days."
      ],
      "metadata": {
        "id": "m3tSHzMRXfP4"
      }
    },
    {
      "cell_type": "code",
      "source": [
        "weekly_sales = [12000, 15000, 9000, 18000, 20000]\n",
        "new_list = weekly_sales[:3]\n",
        "print(new_list)"
      ],
      "metadata": {
        "colab": {
          "base_uri": "https://localhost:8080/"
        },
        "id": "1ban7YntXitK",
        "outputId": "34320c55-331a-4834-e32b-f9af37ef75f1"
      },
      "execution_count": 9,
      "outputs": [
        {
          "output_type": "stream",
          "name": "stdout",
          "text": [
            "[12000, 15000, 9000]\n"
          ]
        }
      ]
    },
    {
      "cell_type": "markdown",
      "source": [
        "##7. Backward slicing\n",
        "From the same list of sales data, create a new list containing the sales from the last two\n",
        "days using negative slicing."
      ],
      "metadata": {
        "id": "EPj-ilfG9yGN"
      }
    },
    {
      "cell_type": "code",
      "source": [
        "back = weekly_sales[4:2:-1]\n",
        "back"
      ],
      "metadata": {
        "colab": {
          "base_uri": "https://localhost:8080/"
        },
        "id": "SLKNux7W91np",
        "outputId": "3f92c8ea-7f48-48a1-8870-11180786b5b4"
      },
      "execution_count": 13,
      "outputs": [
        {
          "output_type": "execute_result",
          "data": {
            "text/plain": [
              "[20000, 18000]"
            ]
          },
          "metadata": {},
          "execution_count": 13
        }
      ]
    },
    {
      "cell_type": "markdown",
      "source": [
        "##8. Slicing with a step\n",
        "From a list of numbers `[1, 2, 3, 4, 5, 6, 7, 8, 9, 10]`, create a new list containing every\n",
        "other number starting from the first one."
      ],
      "metadata": {
        "id": "vX_jPceu-V3b"
      }
    },
    {
      "cell_type": "code",
      "source": [
        "l1 = list(range(10))\n",
        "l2 = [x for x in l1 if x%2 != 0]\n",
        "l2"
      ],
      "metadata": {
        "colab": {
          "base_uri": "https://localhost:8080/"
        },
        "id": "hSGiqLS0-XVu",
        "outputId": "91d35b8f-e4af-4e28-e9c6-09f580651f4d"
      },
      "execution_count": 14,
      "outputs": [
        {
          "output_type": "execute_result",
          "data": {
            "text/plain": [
              "[1, 3, 5, 7, 9]"
            ]
          },
          "metadata": {},
          "execution_count": 14
        }
      ]
    },
    {
      "cell_type": "code",
      "source": [
        "l1 = list(range(1,11))\n",
        "l2 = l1[::2]\n",
        "l2"
      ],
      "metadata": {
        "colab": {
          "base_uri": "https://localhost:8080/"
        },
        "id": "OUyI3A3d-slE",
        "outputId": "c4c62a01-eb3c-4ecb-85a2-6ecee69409ef"
      },
      "execution_count": 21,
      "outputs": [
        {
          "output_type": "execute_result",
          "data": {
            "text/plain": [
              "[1, 3, 5, 7, 9]"
            ]
          },
          "metadata": {},
          "execution_count": 21
        }
      ]
    },
    {
      "cell_type": "markdown",
      "source": [
        "##9. Combining lists with `+`\n",
        "You have a list of morning shift employees `['Priya', 'Rahul']` and an evening shift list\n",
        "`['Anjali', 'Kunal']`. Create a single list of all employees."
      ],
      "metadata": {
        "id": "EJRdZahn_DWn"
      }
    },
    {
      "cell_type": "code",
      "source": [
        "n1 = ['Priya', 'Rahul']\n",
        "n2 = ['Anjali', 'Kunal']\n",
        "employees = n1 + n2\n",
        "employees.sort()\n",
        "print(f\"List of all employees is {employees}\")"
      ],
      "metadata": {
        "colab": {
          "base_uri": "https://localhost:8080/"
        },
        "id": "R_8EBYyd_ExK",
        "outputId": "c7d4fa47-115b-4bed-e143-931d739e24f5"
      },
      "execution_count": 24,
      "outputs": [
        {
          "output_type": "stream",
          "name": "stdout",
          "text": [
            "List of all employees is ['Anjali', 'Kunal', 'Priya', 'Rahul']\n"
          ]
        }
      ]
    },
    {
      "cell_type": "markdown",
      "source": [
        "##10. Counting occurrences of an item\n",
        "You have a list of recent purchases `['Vanilla', 'Chocolate', 'Vanilla', 'Strawberry',\n",
        "'Chocolate', 'Vanilla']`. Count how many times \"Vanilla\" was purchased."
      ],
      "metadata": {
        "id": "JyJDVNqw_aL5"
      }
    },
    {
      "cell_type": "code",
      "source": [
        "rp = ['Vanilla', 'Chocolate', 'Vanilla', 'Strawberry', 'Chocolate', 'Vanilla']\n",
        "count = 0\n",
        "for i in rp:\n",
        "  if i == \"Vanilla\":\n",
        "    count += 1\n",
        "print(count)"
      ],
      "metadata": {
        "colab": {
          "base_uri": "https://localhost:8080/"
        },
        "id": "a4Nk0gUX_bcA",
        "outputId": "64b440aa-729a-41eb-c82c-f1252c65da0e"
      },
      "execution_count": 25,
      "outputs": [
        {
          "output_type": "stream",
          "name": "stdout",
          "text": [
            "3\n"
          ]
        }
      ]
    },
    {
      "cell_type": "code",
      "source": [
        "rp = ['Vanilla', 'Chocolate', 'Vanilla', 'Strawberry', 'Chocolate', 'Vanilla']\n",
        "vanilla_list = [i for i in rp if i == \"Vanilla\"]\n",
        "print(f\"No. of times Vanilla appeared in Recent purchases is {len(vanilla_list)} times.\")"
      ],
      "metadata": {
        "colab": {
          "base_uri": "https://localhost:8080/"
        },
        "id": "yyj5wsJv_v30",
        "outputId": "1a2251ce-cc77-4306-a919-2bf8b90c78d7"
      },
      "execution_count": 32,
      "outputs": [
        {
          "output_type": "stream",
          "name": "stdout",
          "text": [
            "No. of times Vanilla appeared in Recent purchases is 3 times.\n"
          ]
        }
      ]
    },
    {
      "cell_type": "markdown",
      "source": [
        "##11. Finding the index of an item\n",
        "In the list `['Milk', 'Sugar', 'Cream']`, find the index of \"Sugar\"."
      ],
      "metadata": {
        "id": "xyhMLrNFAkSb"
      }
    },
    {
      "cell_type": "code",
      "source": [
        "ingredients = ['Milk', 'Sugar', 'Cream']\n",
        "ingredients.index('Sugar')"
      ],
      "metadata": {
        "colab": {
          "base_uri": "https://localhost:8080/"
        },
        "id": "4XqaTv0hAmN2",
        "outputId": "db586c6e-b9f3-4333-c878-b4a81cfd969c"
      },
      "execution_count": 34,
      "outputs": [
        {
          "output_type": "execute_result",
          "data": {
            "text/plain": [
              "1"
            ]
          },
          "metadata": {},
          "execution_count": 34
        }
      ]
    },
    {
      "cell_type": "markdown",
      "source": [
        "##12. Reversing a list with slicing\n",
        "Reverse the order of the list `['Priya', 'Rahul', 'Anjali']` using slicing and print the new\n",
        "reversed list."
      ],
      "metadata": {
        "id": "F3twaEyZA1D6"
      }
    },
    {
      "cell_type": "code",
      "source": [
        "names = ['Priya', 'Rahul', 'Anjali']\n",
        "reversed = names[::-1]\n",
        "print(f\"Reversed list of names is {reversed}\")"
      ],
      "metadata": {
        "colab": {
          "base_uri": "https://localhost:8080/"
        },
        "id": "qjSvIHLDA2R-",
        "outputId": "a5979818-7543-4f95-f6ca-b104a8fbf75d"
      },
      "execution_count": 35,
      "outputs": [
        {
          "output_type": "stream",
          "name": "stdout",
          "text": [
            "Reversed list of names is ['Anjali', 'Rahul', 'Priya']\n"
          ]
        }
      ]
    },
    {
      "cell_type": "markdown",
      "source": [
        "##13. Checking for an item in a list\n",
        "Check if the item \"Mango\" is present in the list of flavors `['Vanilla', 'Chocolate',\n",
        "'Strawberry']` and print a message based on the result."
      ],
      "metadata": {
        "id": "OWsJGGojBDYi"
      }
    },
    {
      "cell_type": "code",
      "source": [
        "flavors = ['Vanilla', 'Chocolate', 'Strawberry']\n",
        "search_item = input(\"Enter the flavour to search: \")\n",
        "if search_item in flavors:\n",
        "  print(f\"{search_item} is present in {flavors}\")\n",
        "else:\n",
        "  print(f\"{search_item} is NOT present in {flavors}\")"
      ],
      "metadata": {
        "colab": {
          "base_uri": "https://localhost:8080/"
        },
        "id": "kI4TUx8wBEub",
        "outputId": "6af8514c-d152-443f-d54a-b6a00543cf7b"
      },
      "execution_count": 39,
      "outputs": [
        {
          "output_type": "stream",
          "name": "stdout",
          "text": [
            "Enter the flavour to search: Mango\n",
            "Mango is NOT present in ['Vanilla', 'Chocolate', 'Strawberry']\n"
          ]
        }
      ]
    },
    {
      "cell_type": "markdown",
      "source": [
        "##14. Sorting a list\n",
        "Sort the list of employee names `['Rahul', 'Priya', 'Anjali']` in alphabetical order. Print the\n",
        "sorted list."
      ],
      "metadata": {
        "id": "pujz2n48BqJG"
      }
    },
    {
      "cell_type": "code",
      "source": [
        "emp = ['Rahul', 'Priya', 'Anjali']\n",
        "emp.sort()\n",
        "print(f\"New sorted list of employees is {emp}\")"
      ],
      "metadata": {
        "colab": {
          "base_uri": "https://localhost:8080/"
        },
        "id": "-ynM5haEBrbH",
        "outputId": "a8d73e16-7b14-4eeb-a829-d1b2c8fda91e"
      },
      "execution_count": 40,
      "outputs": [
        {
          "output_type": "stream",
          "name": "stdout",
          "text": [
            "New sorted list of employees is ['Anjali', 'Priya', 'Rahul']\n"
          ]
        }
      ]
    },
    {
      "cell_type": "markdown",
      "source": [
        "##15. A list of lists (2D list)\n",
        "Create a list of lists to represent daily stock levels: `[[100, 80], [90, 75]]` where the first\n",
        "number is stock of Item A and the second is Item B. Access and print the stock of Item A\n",
        "on the second day."
      ],
      "metadata": {
        "id": "UlYh3AIaB3g_"
      }
    },
    {
      "cell_type": "code",
      "source": [
        "daily_stocks = [[100, 80], [90, 75]]\n",
        "print(f\"Stocks on day 1 is {daily_stocks[0]}\")\n",
        "print(f\"Stocks on day 2 is {daily_stocks[1]}\")\n",
        "print(f\"Stock of item A on day 2 is {daily_stocks[1][0]}\")"
      ],
      "metadata": {
        "colab": {
          "base_uri": "https://localhost:8080/"
        },
        "id": "qcxKzwhuB4rW",
        "outputId": "93b5cbef-5ebd-4eee-88f3-190372ba5778"
      },
      "execution_count": 45,
      "outputs": [
        {
          "output_type": "stream",
          "name": "stdout",
          "text": [
            "Stocks on day 1 is [100, 80]\n",
            "Stocks on day 2 is [90, 75]\n",
            "Stock of item A on day 2 is 90\n"
          ]
        }
      ]
    }
  ]
}