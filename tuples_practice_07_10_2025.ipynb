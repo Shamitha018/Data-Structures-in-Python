{
  "nbformat": 4,
  "nbformat_minor": 0,
  "metadata": {
    "colab": {
      "provenance": []
    },
    "kernelspec": {
      "name": "python3",
      "display_name": "Python 3"
    },
    "language_info": {
      "name": "python"
    }
  },
  "cells": [
    {
      "cell_type": "markdown",
      "source": [
        "# tuple creation"
      ],
      "metadata": {
        "id": "Hxh0CM2DRs1C"
      }
    },
    {
      "cell_type": "code",
      "execution_count": null,
      "metadata": {
        "colab": {
          "base_uri": "https://localhost:8080/"
        },
        "id": "_eC6zQi1P6TV",
        "outputId": "ee2ee98e-c935-4cd2-91a9-701829dc7f23"
      },
      "outputs": [
        {
          "output_type": "stream",
          "name": "stdout",
          "text": [
            "() <class 'tuple'>\n"
          ]
        }
      ],
      "source": [
        "empty = ()\n",
        "print(empty, type(empty))"
      ]
    },
    {
      "cell_type": "code",
      "source": [
        "DOB = tuple(input(\"Enter your Date of Birth in  dd/mm/yyyy format: \").split(\" \"))\n",
        "DOB"
      ],
      "metadata": {
        "colab": {
          "base_uri": "https://localhost:8080/"
        },
        "id": "4JNOrJ7KSFWr",
        "outputId": "767b352d-df32-4721-f3a1-f4ea7aebcc4f"
      },
      "execution_count": null,
      "outputs": [
        {
          "name": "stdout",
          "output_type": "stream",
          "text": [
            "Enter your Date of Birth in  dd/mm/yyyy format: 24 04 1999\n"
          ]
        },
        {
          "output_type": "execute_result",
          "data": {
            "text/plain": [
              "('24', '04', '1999')"
            ]
          },
          "metadata": {},
          "execution_count": 11
        }
      ]
    },
    {
      "cell_type": "code",
      "source": [
        "names = (\"shamitha\",)\n",
        "print(type(names), names)"
      ],
      "metadata": {
        "colab": {
          "base_uri": "https://localhost:8080/"
        },
        "id": "IXuaApybSxzb",
        "outputId": "71c7e9d1-d121-4439-f9a6-7ef2231d4f4d"
      },
      "execution_count": null,
      "outputs": [
        {
          "output_type": "stream",
          "name": "stdout",
          "text": [
            "<class 'tuple'> ('shamitha',)\n"
          ]
        }
      ]
    },
    {
      "cell_type": "markdown",
      "source": [
        "# list to tuple"
      ],
      "metadata": {
        "id": "19AtB7cHTXL4"
      }
    },
    {
      "cell_type": "code",
      "source": [
        "DOb = list(DOB)\n",
        "print(f\"type of DOb is {type(DOb)}\")\n",
        "Date_of_Birth = tuple(DOb)\n",
        "print(type(Date_of_Birth))"
      ],
      "metadata": {
        "colab": {
          "base_uri": "https://localhost:8080/"
        },
        "id": "y8pGvbSfTbQe",
        "outputId": "3ab2df4e-a874-4a0b-bc8a-30cceecc93b2"
      },
      "execution_count": null,
      "outputs": [
        {
          "output_type": "stream",
          "name": "stdout",
          "text": [
            "type of DOb is <class 'list'>\n",
            "<class 'tuple'>\n"
          ]
        }
      ]
    },
    {
      "cell_type": "markdown",
      "source": [
        "# String to tuple"
      ],
      "metadata": {
        "id": "tyrFtwytUE_2"
      }
    },
    {
      "cell_type": "code",
      "source": [
        "grocery = input(\"Enter your grocery list items with space: \") #string\n",
        "gt= tuple(grocery.split(\" \")) #tupling a list of string\n",
        "print(gt, type(gt))"
      ],
      "metadata": {
        "colab": {
          "base_uri": "https://localhost:8080/"
        },
        "id": "fkJNm6lVUH4Q",
        "outputId": "7f3c4072-36eb-4a51-c144-6d9b9151c296"
      },
      "execution_count": null,
      "outputs": [
        {
          "output_type": "stream",
          "name": "stdout",
          "text": [
            "Enter your grocery list items with space: almonds sprite coke fanta bedsheets\n",
            "('almonds', 'sprite', 'coke', 'fanta', 'bedsheets') <class 'tuple'>\n"
          ]
        }
      ]
    },
    {
      "cell_type": "markdown",
      "source": [
        "# creation of tuples with variables"
      ],
      "metadata": {
        "id": "4k9oX6d5WEMK"
      }
    },
    {
      "cell_type": "code",
      "source": [
        "x = 0.9\n",
        "y = 10\n",
        "cords = (x, y)\n",
        "cords"
      ],
      "metadata": {
        "colab": {
          "base_uri": "https://localhost:8080/"
        },
        "id": "9_vs8VGhWHwf",
        "outputId": "71e52bc3-8f67-4ae0-8c56-584e16946d14"
      },
      "execution_count": 3,
      "outputs": [
        {
          "output_type": "execute_result",
          "data": {
            "text/plain": [
              "(0.9, 10)"
            ]
          },
          "metadata": {},
          "execution_count": 3
        }
      ]
    },
    {
      "cell_type": "markdown",
      "source": [
        "# nested tuples"
      ],
      "metadata": {
        "id": "qZ3F5NczWUTQ"
      }
    },
    {
      "cell_type": "code",
      "source": [
        "matrix_in_tuple = (cords, (9, 10))\n",
        "matrix_in_tuple"
      ],
      "metadata": {
        "colab": {
          "base_uri": "https://localhost:8080/"
        },
        "id": "YIHU0PLkWWzA",
        "outputId": "32aabfe0-bdb6-4a9a-932e-1a1a0a97d870"
      },
      "execution_count": 4,
      "outputs": [
        {
          "output_type": "execute_result",
          "data": {
            "text/plain": [
              "((0.9, 10), (9, 10))"
            ]
          },
          "metadata": {},
          "execution_count": 4
        }
      ]
    },
    {
      "cell_type": "markdown",
      "source": [
        "# tuple immutability\n"
      ],
      "metadata": {
        "id": "GcbeW7MtWnEN"
      }
    },
    {
      "cell_type": "code",
      "source": [
        "matrix_in_tuple[0][1] #indexable"
      ],
      "metadata": {
        "colab": {
          "base_uri": "https://localhost:8080/"
        },
        "id": "sEbefcV4Wr0y",
        "outputId": "e88028b6-0de8-4a12-e07a-f32619ab328d"
      },
      "execution_count": 5,
      "outputs": [
        {
          "output_type": "execute_result",
          "data": {
            "text/plain": [
              "10"
            ]
          },
          "metadata": {},
          "execution_count": 5
        }
      ]
    },
    {
      "cell_type": "code",
      "source": [
        "matrix_in_tuple[0][1] = 10 # but not mutable"
      ],
      "metadata": {
        "colab": {
          "base_uri": "https://localhost:8080/",
          "height": 141
        },
        "id": "xi1HNsGaW5ER",
        "outputId": "45f1aef4-67c7-4db8-a79a-d2014535e4e2"
      },
      "execution_count": 6,
      "outputs": [
        {
          "output_type": "error",
          "ename": "TypeError",
          "evalue": "'tuple' object does not support item assignment",
          "traceback": [
            "\u001b[0;31m---------------------------------------------------------------------------\u001b[0m",
            "\u001b[0;31mTypeError\u001b[0m                                 Traceback (most recent call last)",
            "\u001b[0;32m/tmp/ipython-input-2954258603.py\u001b[0m in \u001b[0;36m<cell line: 0>\u001b[0;34m()\u001b[0m\n\u001b[0;32m----> 1\u001b[0;31m \u001b[0mmatrix_in_tuple\u001b[0m\u001b[0;34m[\u001b[0m\u001b[0;36m0\u001b[0m\u001b[0;34m]\u001b[0m\u001b[0;34m[\u001b[0m\u001b[0;36m1\u001b[0m\u001b[0;34m]\u001b[0m \u001b[0;34m=\u001b[0m \u001b[0;36m10\u001b[0m \u001b[0;31m# but not mutable\u001b[0m\u001b[0;34m\u001b[0m\u001b[0;34m\u001b[0m\u001b[0m\n\u001b[0m",
            "\u001b[0;31mTypeError\u001b[0m: 'tuple' object does not support item assignment"
          ]
        }
      ]
    },
    {
      "cell_type": "code",
      "source": [
        "numerics = (10, 8.9, 1, 0, [8,9,8]) #although an unhashable type has accepted hashable object, the hashable object shall now become unhashable"
      ],
      "metadata": {
        "id": "IbH6Kz6d-OUs"
      },
      "execution_count": 19,
      "outputs": []
    },
    {
      "cell_type": "code",
      "source": [
        "numerics[4] = [9,9,9] #i.e., one can not reassign values in list in tuple"
      ],
      "metadata": {
        "colab": {
          "base_uri": "https://localhost:8080/",
          "height": 141
        },
        "id": "86S36vKc-YWQ",
        "outputId": "152b9f0d-bf8b-4be9-887e-a0a1f22bf217"
      },
      "execution_count": 16,
      "outputs": [
        {
          "output_type": "error",
          "ename": "TypeError",
          "evalue": "'tuple' object does not support item assignment",
          "traceback": [
            "\u001b[0;31m---------------------------------------------------------------------------\u001b[0m",
            "\u001b[0;31mTypeError\u001b[0m                                 Traceback (most recent call last)",
            "\u001b[0;32m/tmp/ipython-input-3572421568.py\u001b[0m in \u001b[0;36m<cell line: 0>\u001b[0;34m()\u001b[0m\n\u001b[0;32m----> 1\u001b[0;31m \u001b[0mnumerics\u001b[0m\u001b[0;34m[\u001b[0m\u001b[0;36m4\u001b[0m\u001b[0;34m]\u001b[0m \u001b[0;34m=\u001b[0m \u001b[0;34m[\u001b[0m\u001b[0;36m9\u001b[0m\u001b[0;34m,\u001b[0m\u001b[0;36m9\u001b[0m\u001b[0;34m,\u001b[0m\u001b[0;36m9\u001b[0m\u001b[0;34m]\u001b[0m\u001b[0;34m\u001b[0m\u001b[0;34m\u001b[0m\u001b[0m\n\u001b[0m",
            "\u001b[0;31mTypeError\u001b[0m: 'tuple' object does not support item assignment"
          ]
        }
      ]
    },
    {
      "cell_type": "code",
      "source": [
        "#but we can append list of a tuple\n",
        "numerics[4].append(9) #cant modify what's already defined is immutability in tuples\n",
        "print(numerics)"
      ],
      "metadata": {
        "colab": {
          "base_uri": "https://localhost:8080/"
        },
        "id": "-s50n5QT_dSy",
        "outputId": "18ccfe05-9c85-414a-84e6-e7e34d75d4c5"
      },
      "execution_count": 20,
      "outputs": [
        {
          "output_type": "stream",
          "name": "stdout",
          "text": [
            "(10, 8.9, 1, 0, [8, 9, 8, 9])\n"
          ]
        }
      ]
    },
    {
      "cell_type": "markdown",
      "source": [
        "# Count vs len in tuples:\n",
        "count is used to count the frequencies of an item in the tuple </br>\n",
        "len is used to count the no. of items in the tuple\n"
      ],
      "metadata": {
        "id": "OzJD7yBV_7-0"
      }
    },
    {
      "cell_type": "code",
      "source": [
        "tp = (9, \"IOS\", \"Safebios\", \"Chip\", 9, 256, 13, \"MACROHARD\", \"Chip\", \"Dell\", \"chip\", \"Chip\")\n",
        "tp.count(9)"
      ],
      "metadata": {
        "colab": {
          "base_uri": "https://localhost:8080/"
        },
        "id": "0056WaudAHOY",
        "outputId": "649d70e5-7a82-45d4-a8ac-5191df3af8a1"
      },
      "execution_count": 25,
      "outputs": [
        {
          "output_type": "execute_result",
          "data": {
            "text/plain": [
              "2"
            ]
          },
          "metadata": {},
          "execution_count": 25
        }
      ]
    },
    {
      "cell_type": "code",
      "source": [
        "len(tp)"
      ],
      "metadata": {
        "colab": {
          "base_uri": "https://localhost:8080/"
        },
        "id": "zFqVuoSpAk9Z",
        "outputId": "2c1251ef-98b9-42ee-9850-f1893db1934d"
      },
      "execution_count": 26,
      "outputs": [
        {
          "output_type": "execute_result",
          "data": {
            "text/plain": [
              "12"
            ]
          },
          "metadata": {},
          "execution_count": 26
        }
      ]
    },
    {
      "cell_type": "code",
      "source": [
        "#index() returns first occurence index of given item in function\n",
        "tp.index(\"Chip\", 4, 12) # index in slice of a tuple"
      ],
      "metadata": {
        "colab": {
          "base_uri": "https://localhost:8080/"
        },
        "id": "fBMMyYKpAxOz",
        "outputId": "e30c3afa-0d3d-429d-899d-24554a88dd8f"
      },
      "execution_count": 28,
      "outputs": [
        {
          "output_type": "execute_result",
          "data": {
            "text/plain": [
              "8"
            ]
          },
          "metadata": {},
          "execution_count": 28
        }
      ]
    },
    {
      "cell_type": "markdown",
      "source": [
        "# forward and backward indexing in tuples"
      ],
      "metadata": {
        "id": "i7zY0E0gBnJB"
      }
    },
    {
      "cell_type": "code",
      "source": [
        "tp[0] #first element"
      ],
      "metadata": {
        "colab": {
          "base_uri": "https://localhost:8080/"
        },
        "id": "xhS205T1Bkye",
        "outputId": "01aa83c7-5f34-473d-c834-bc4a796648bf"
      },
      "execution_count": 29,
      "outputs": [
        {
          "output_type": "execute_result",
          "data": {
            "text/plain": [
              "9"
            ]
          },
          "metadata": {},
          "execution_count": 29
        }
      ]
    },
    {
      "cell_type": "code",
      "source": [
        "tp[-len(tp)] #backward indexing"
      ],
      "metadata": {
        "colab": {
          "base_uri": "https://localhost:8080/"
        },
        "id": "IIKwOaQkB0eh",
        "outputId": "dff67862-a64a-4be1-9990-e814500c23de"
      },
      "execution_count": 31,
      "outputs": [
        {
          "output_type": "execute_result",
          "data": {
            "text/plain": [
              "9"
            ]
          },
          "metadata": {},
          "execution_count": 31
        }
      ]
    },
    {
      "cell_type": "code",
      "source": [
        "tp[-1] #last element"
      ],
      "metadata": {
        "colab": {
          "base_uri": "https://localhost:8080/",
          "height": 36
        },
        "id": "vnKTl_cqBvtu",
        "outputId": "730cff70-7488-4b0f-dbf6-fb36622200f5"
      },
      "execution_count": 30,
      "outputs": [
        {
          "output_type": "execute_result",
          "data": {
            "text/plain": [
              "'Chip'"
            ],
            "application/vnd.google.colaboratory.intrinsic+json": {
              "type": "string"
            }
          },
          "metadata": {},
          "execution_count": 30
        }
      ]
    },
    {
      "cell_type": "code",
      "source": [
        "tp[len(tp)-1]"
      ],
      "metadata": {
        "colab": {
          "base_uri": "https://localhost:8080/",
          "height": 36
        },
        "id": "jNnL0LRuB9sV",
        "outputId": "7ed4aad8-db72-414f-f544-76be74769224"
      },
      "execution_count": 33,
      "outputs": [
        {
          "output_type": "execute_result",
          "data": {
            "text/plain": [
              "'Chip'"
            ],
            "application/vnd.google.colaboratory.intrinsic+json": {
              "type": "string"
            }
          },
          "metadata": {},
          "execution_count": 33
        }
      ]
    },
    {
      "cell_type": "code",
      "source": [
        "tp[::-1]"
      ],
      "metadata": {
        "colab": {
          "base_uri": "https://localhost:8080/"
        },
        "id": "7992qSqOCC8d",
        "outputId": "15598f06-2d88-488a-fb25-a4cae8bd355d"
      },
      "execution_count": 35,
      "outputs": [
        {
          "output_type": "execute_result",
          "data": {
            "text/plain": [
              "('Chip',\n",
              " 'chip',\n",
              " 'Dell',\n",
              " 'Chip',\n",
              " 'MACROHARD',\n",
              " 13,\n",
              " 256,\n",
              " 9,\n",
              " 'Chip',\n",
              " 'Safebios',\n",
              " 'IOS',\n",
              " 9)"
            ]
          },
          "metadata": {},
          "execution_count": 35
        }
      ]
    },
    {
      "cell_type": "markdown",
      "source": [
        "#Problem 1: Tuple Creation & Basic Access:\n",
        "1. Create a tuple named `book_details` with the following information: \"The Hitchhiker's Guide to the Galaxy\",\n",
        "\"Douglas Adams\", 1979, \"Science Fiction\". Print the tuple.\n",
        "2. Print the title of the book and the publication year from `book_details` using indexing.\n",
        "3. Create a single-element tuple containing only the string \"Solo\". Print it and its type to verify it's a tuple."
      ],
      "metadata": {
        "id": "dROSBAJfE6tg"
      }
    },
    {
      "cell_type": "code",
      "source": [
        "book_details = (\"The Hitchhiker's Guide to the Galaxy\", \"Douglas Adams\", 1979, \"Science Fiction\")\n",
        "print(f\"Title of the book is '{book_details[0]}' and year of publication is '{book_details[2]}'.\")"
      ],
      "metadata": {
        "colab": {
          "base_uri": "https://localhost:8080/"
        },
        "id": "ZbDM0yDHE9sN",
        "outputId": "b7b8b9ef-07f0-4215-f25e-1f3e854b25e6"
      },
      "execution_count": 37,
      "outputs": [
        {
          "output_type": "stream",
          "name": "stdout",
          "text": [
            "Title of the book is 'The Hitchhiker's Guide to the Galaxy' and year of publication is '1979'.\n"
          ]
        }
      ]
    },
    {
      "cell_type": "code",
      "source": [
        "sin = (\"Solo\",)\n",
        "print(sin, type(sin))"
      ],
      "metadata": {
        "colab": {
          "base_uri": "https://localhost:8080/"
        },
        "id": "opOQfFXgFa_U",
        "outputId": "98bdf8cd-72b2-46ba-d5b3-e6cc41905add"
      },
      "execution_count": 38,
      "outputs": [
        {
          "output_type": "stream",
          "name": "stdout",
          "text": [
            "('Solo',) <class 'tuple'>\n"
          ]
        }
      ]
    },
    {
      "cell_type": "markdown",
      "source": [
        "# 2. Problem 2: Tuple Immutability:\n",
        "1. Given `rgb_color_code = (255, 0, 128)`. Try to change the green component to `50` (i.e., `rgb_color_code[1] = 50`).\n",
        "What error do you get? Explain why.\n",
        "2. Create a tuple `complex_tuple = ([1, 2], \"mutable\", (3, 4))`. Try to append `3` to the inner list `[1, 2]` (i.e.,\n",
        "`complex_tuple[0].append(3)`). Does this work? Explain why or why not, relating it to mutability."
      ],
      "metadata": {
        "id": "D-x5yJqKFspa"
      }
    },
    {
      "cell_type": "code",
      "source": [
        "rgb_color_code = (255, 0, 128)\n",
        "rgb_color_code[0] = 50 #tuple does not support re-assignments"
      ],
      "metadata": {
        "colab": {
          "base_uri": "https://localhost:8080/",
          "height": 158
        },
        "id": "2ukYFs6ZFubF",
        "outputId": "3c0c18be-2ce3-47e6-e286-52f40f6cf460"
      },
      "execution_count": 39,
      "outputs": [
        {
          "output_type": "error",
          "ename": "TypeError",
          "evalue": "'tuple' object does not support item assignment",
          "traceback": [
            "\u001b[0;31m---------------------------------------------------------------------------\u001b[0m",
            "\u001b[0;31mTypeError\u001b[0m                                 Traceback (most recent call last)",
            "\u001b[0;32m/tmp/ipython-input-1177640061.py\u001b[0m in \u001b[0;36m<cell line: 0>\u001b[0;34m()\u001b[0m\n\u001b[1;32m      1\u001b[0m \u001b[0mrgb_color_code\u001b[0m \u001b[0;34m=\u001b[0m \u001b[0;34m(\u001b[0m\u001b[0;36m255\u001b[0m\u001b[0;34m,\u001b[0m \u001b[0;36m0\u001b[0m\u001b[0;34m,\u001b[0m \u001b[0;36m128\u001b[0m\u001b[0;34m)\u001b[0m\u001b[0;34m\u001b[0m\u001b[0;34m\u001b[0m\u001b[0m\n\u001b[0;32m----> 2\u001b[0;31m \u001b[0mrgb_color_code\u001b[0m\u001b[0;34m[\u001b[0m\u001b[0;36m0\u001b[0m\u001b[0;34m]\u001b[0m \u001b[0;34m=\u001b[0m \u001b[0;36m50\u001b[0m\u001b[0;34m\u001b[0m\u001b[0;34m\u001b[0m\u001b[0m\n\u001b[0m",
            "\u001b[0;31mTypeError\u001b[0m: 'tuple' object does not support item assignment"
          ]
        }
      ]
    },
    {
      "cell_type": "code",
      "source": [
        "complex_tuple = ([1, 2], \"mutable\", (3, 4))\n",
        "complex_tuple[0].append(3)\n",
        "complex_tuple"
      ],
      "metadata": {
        "colab": {
          "base_uri": "https://localhost:8080/"
        },
        "id": "pdVgcolDGGiG",
        "outputId": "da49e660-6d6f-4aa3-c49b-67672b28c91a"
      },
      "execution_count": 41,
      "outputs": [
        {
          "output_type": "execute_result",
          "data": {
            "text/plain": [
              "([1, 2, 3], 'mutable', (3, 4))"
            ]
          },
          "metadata": {},
          "execution_count": 41
        }
      ]
    },
    {
      "cell_type": "markdown",
      "source": [
        "tuple is immutable\n",
        "but the elements of tuple can be mutable like list and hence appending is possible but not reassigning.\n",
        "\n",
        "objects in tuple once created cant be assigned again"
      ],
      "metadata": {
        "id": "LxAaidjgGTvt"
      }
    },
    {
      "cell_type": "markdown",
      "source": [
        "# Problem 3: Tuple Methods & Slicing:\n",
        "1. You have a tuple of daily temperatures: `temperatures = (25, 27, 25, 29, 28, 27, 30)`.\n",
        "2. Count how many times `27` appears in the `temperatures` tuple.\n",
        "3. Find the index of the first occurrence of `25`.\n",
        "4. Find the length of the `temperatures` tuple.\n",
        "5. Extract a slice containing temperatures from the 3rd day to the 5th day (inclusive) using forward slicing.\n",
        "6. Extract the last two temperatures using backward slicing."
      ],
      "metadata": {
        "id": "LmMDiliFG8qF"
      }
    },
    {
      "cell_type": "code",
      "source": [
        "temperatures = (25, 27, 25, 29, 28, 27, 30)\n",
        "temperatures.count(27)"
      ],
      "metadata": {
        "colab": {
          "base_uri": "https://localhost:8080/"
        },
        "id": "zsoDe1zyG_Ip",
        "outputId": "531ca773-ade1-4c17-8ad1-4ca9f85ce985"
      },
      "execution_count": 42,
      "outputs": [
        {
          "output_type": "execute_result",
          "data": {
            "text/plain": [
              "2"
            ]
          },
          "metadata": {},
          "execution_count": 42
        }
      ]
    },
    {
      "cell_type": "code",
      "source": [
        "temperatures.index(25)"
      ],
      "metadata": {
        "colab": {
          "base_uri": "https://localhost:8080/"
        },
        "id": "LZAndj3DHISL",
        "outputId": "d89cfef5-e14f-4369-b044-8b50b317afab"
      },
      "execution_count": 43,
      "outputs": [
        {
          "output_type": "execute_result",
          "data": {
            "text/plain": [
              "0"
            ]
          },
          "metadata": {},
          "execution_count": 43
        }
      ]
    },
    {
      "cell_type": "code",
      "source": [
        "len(temperatures)"
      ],
      "metadata": {
        "colab": {
          "base_uri": "https://localhost:8080/"
        },
        "id": "vpQnFPD5HL0c",
        "outputId": "a0a47cfd-eca2-4f56-fda0-eb2fd1a69d9b"
      },
      "execution_count": 44,
      "outputs": [
        {
          "output_type": "execute_result",
          "data": {
            "text/plain": [
              "7"
            ]
          },
          "metadata": {},
          "execution_count": 44
        }
      ]
    },
    {
      "cell_type": "code",
      "source": [
        "temperatures[2:5]"
      ],
      "metadata": {
        "colab": {
          "base_uri": "https://localhost:8080/"
        },
        "id": "P3Sn6m4KHP_1",
        "outputId": "6d6a222f-5b52-472f-d296-1193e91068e0"
      },
      "execution_count": 46,
      "outputs": [
        {
          "output_type": "execute_result",
          "data": {
            "text/plain": [
              "(25, 29, 28)"
            ]
          },
          "metadata": {},
          "execution_count": 46
        }
      ]
    },
    {
      "cell_type": "code",
      "source": [
        "temperatures[len(temperatures)-1: len(temperatures)-3: -1]"
      ],
      "metadata": {
        "colab": {
          "base_uri": "https://localhost:8080/"
        },
        "id": "drR4FI0BHfeh",
        "outputId": "d2f3c969-8e30-4493-ffc1-904e2f423169"
      },
      "execution_count": 56,
      "outputs": [
        {
          "output_type": "execute_result",
          "data": {
            "text/plain": [
              "(30, 27)"
            ]
          },
          "metadata": {},
          "execution_count": 56
        }
      ]
    }
  ]
}