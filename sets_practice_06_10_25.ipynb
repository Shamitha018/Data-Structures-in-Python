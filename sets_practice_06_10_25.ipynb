{
  "nbformat": 4,
  "nbformat_minor": 0,
  "metadata": {
    "colab": {
      "provenance": []
    },
    "kernelspec": {
      "name": "python3",
      "display_name": "Python 3"
    },
    "language_info": {
      "name": "python"
    }
  },
  "cells": [
    {
      "cell_type": "markdown",
      "source": [
        "# creation of sets"
      ],
      "metadata": {
        "id": "1cIa_IFq3SME"
      }
    },
    {
      "cell_type": "markdown",
      "source": [
        "empty set is to be created with set() only, {} alone will create a dictionary not set."
      ],
      "metadata": {
        "id": "w93DZHYU2uHY"
      }
    },
    {
      "cell_type": "code",
      "execution_count": 1,
      "metadata": {
        "colab": {
          "base_uri": "https://localhost:8080/"
        },
        "id": "BYNDGew_yMC0",
        "outputId": "6a7a67b3-da2d-45da-daa4-38c86df4857a"
      },
      "outputs": [
        {
          "output_type": "execute_result",
          "data": {
            "text/plain": [
              "dict"
            ]
          },
          "metadata": {},
          "execution_count": 1
        }
      ],
      "source": [
        "empty_set = set()\n",
        "empyt_set = {}\n",
        "type(empyt_set)"
      ]
    },
    {
      "cell_type": "markdown",
      "source": [
        "list to set: just use set()"
      ],
      "metadata": {
        "id": "RG4cAeGk2sx3"
      }
    },
    {
      "cell_type": "code",
      "source": [
        "anime = ['jjk', 'spyxfamily', 'deathnote', 999]\n",
        "anime_set = set(anime)\n",
        "print(anime_set)"
      ],
      "metadata": {
        "colab": {
          "base_uri": "https://localhost:8080/"
        },
        "id": "WsPx1-VR20c7",
        "outputId": "f78cc2b5-8a89-4416-9244-88d7de4093d0"
      },
      "execution_count": 5,
      "outputs": [
        {
          "output_type": "stream",
          "name": "stdout",
          "text": [
            "{'jjk', 999, 'deathnote', 'spyxfamily'}\n"
          ]
        }
      ]
    },
    {
      "cell_type": "markdown",
      "source": [
        "tuple to set: set()"
      ],
      "metadata": {
        "id": "zwCm9VXv3ZGX"
      }
    },
    {
      "cell_type": "code",
      "source": [
        "t = ('jjk', 'spyxfamily', 'deathnote', 999)\n",
        "print(type(t))\n",
        "print(set(t))\n",
        "print(type(set(t)))"
      ],
      "metadata": {
        "colab": {
          "base_uri": "https://localhost:8080/"
        },
        "id": "eXroDkLN3YsC",
        "outputId": "bc315074-a21f-4239-d3f9-f2d37c26c45e"
      },
      "execution_count": 7,
      "outputs": [
        {
          "output_type": "stream",
          "name": "stdout",
          "text": [
            "<class 'tuple'>\n",
            "{'jjk', 999, 'deathnote', 'spyxfamily'}\n",
            "<class 'set'>\n"
          ]
        }
      ]
    },
    {
      "cell_type": "markdown",
      "source": [
        "# creating sets with actual values"
      ],
      "metadata": {
        "id": "7NfNDu5c37Au"
      }
    },
    {
      "cell_type": "code",
      "source": [
        "shows1 = {'kenshin', 'rose', 'brookyln', set(anime)} #set is mutable and hence unhashable"
      ],
      "metadata": {
        "colab": {
          "base_uri": "https://localhost:8080/",
          "height": 158
        },
        "id": "KBF9OSXn3_qU",
        "outputId": "4f4131da-7a1f-4e26-c1c0-7e765fe60ae9"
      },
      "execution_count": 14,
      "outputs": [
        {
          "output_type": "error",
          "ename": "TypeError",
          "evalue": "unhashable type: 'set'",
          "traceback": [
            "\u001b[0;31m---------------------------------------------------------------------------\u001b[0m",
            "\u001b[0;31mTypeError\u001b[0m                                 Traceback (most recent call last)",
            "\u001b[0;32m/tmp/ipython-input-1913497529.py\u001b[0m in \u001b[0;36m<cell line: 0>\u001b[0;34m()\u001b[0m\n\u001b[0;32m----> 1\u001b[0;31m \u001b[0mshows1\u001b[0m \u001b[0;34m=\u001b[0m \u001b[0;34m{\u001b[0m\u001b[0;34m'kenshin'\u001b[0m\u001b[0;34m,\u001b[0m \u001b[0;34m'rose'\u001b[0m\u001b[0;34m,\u001b[0m \u001b[0;34m'brookyln'\u001b[0m\u001b[0;34m,\u001b[0m \u001b[0mset\u001b[0m\u001b[0;34m(\u001b[0m\u001b[0manime\u001b[0m\u001b[0;34m)\u001b[0m\u001b[0;34m}\u001b[0m\u001b[0;34m\u001b[0m\u001b[0;34m\u001b[0m\u001b[0m\n\u001b[0m\u001b[1;32m      2\u001b[0m \u001b[0mshows\u001b[0m \u001b[0;34m=\u001b[0m \u001b[0;34m{\u001b[0m\u001b[0;36m1\u001b[0m\u001b[0;34m,\u001b[0m \u001b[0;36m2\u001b[0m \u001b[0;34m,\u001b[0m \u001b[0;34m(\u001b[0m\u001b[0;36m2\u001b[0m\u001b[0;34m,\u001b[0m\u001b[0;36m3\u001b[0m\u001b[0;34m,\u001b[0m\u001b[0;36m4\u001b[0m\u001b[0;34m)\u001b[0m\u001b[0;34m}\u001b[0m\u001b[0;34m\u001b[0m\u001b[0;34m\u001b[0m\u001b[0m\n",
            "\u001b[0;31mTypeError\u001b[0m: unhashable type: 'set'"
          ]
        }
      ]
    },
    {
      "cell_type": "code",
      "source": [
        "shows = {1, 2 , (2,3,4)}\n",
        "shows"
      ],
      "metadata": {
        "colab": {
          "base_uri": "https://localhost:8080/"
        },
        "id": "EdKJcqrP5CQd",
        "outputId": "978ed206-5eb3-42ce-9f2d-6e695137eee5"
      },
      "execution_count": 32,
      "outputs": [
        {
          "output_type": "execute_result",
          "data": {
            "text/plain": [
              "{(2, 3, 4), 1, 2}"
            ]
          },
          "metadata": {},
          "execution_count": 32
        }
      ]
    },
    {
      "cell_type": "markdown",
      "source": [
        "# set methods\n",
        "Code Snippet 3: Set Methods (`len()`, `add()`, `remove()`, `pop()`)"
      ],
      "metadata": {
        "id": "2hYCPa5x5Glm"
      }
    },
    {
      "cell_type": "code",
      "source": [
        "len(shows)"
      ],
      "metadata": {
        "colab": {
          "base_uri": "https://localhost:8080/"
        },
        "id": "DvOraM0I5I3X",
        "outputId": "122b7572-ee90-430e-81ee-53c2d843d62c"
      },
      "execution_count": 33,
      "outputs": [
        {
          "output_type": "execute_result",
          "data": {
            "text/plain": [
              "3"
            ]
          },
          "metadata": {},
          "execution_count": 33
        }
      ]
    },
    {
      "cell_type": "code",
      "source": [
        "shows.add(\"Train to busan\")\n",
        "shows"
      ],
      "metadata": {
        "colab": {
          "base_uri": "https://localhost:8080/"
        },
        "id": "f63DAXn-5QZM",
        "outputId": "6511c142-b251-4ff1-93f5-4b9978c47357"
      },
      "execution_count": 34,
      "outputs": [
        {
          "output_type": "execute_result",
          "data": {
            "text/plain": [
              "{(2, 3, 4), 1, 2, 'Train to busan'}"
            ]
          },
          "metadata": {},
          "execution_count": 34
        }
      ]
    },
    {
      "cell_type": "code",
      "source": [
        "shows.pop()"
      ],
      "metadata": {
        "colab": {
          "base_uri": "https://localhost:8080/",
          "height": 36
        },
        "id": "hO8rtJNT5Xcn",
        "outputId": "22c54ca6-3323-41a8-d477-3c8092ba550b"
      },
      "execution_count": 35,
      "outputs": [
        {
          "output_type": "execute_result",
          "data": {
            "text/plain": [
              "'Train to busan'"
            ],
            "application/vnd.google.colaboratory.intrinsic+json": {
              "type": "string"
            }
          },
          "metadata": {},
          "execution_count": 35
        }
      ]
    },
    {
      "cell_type": "code",
      "source": [
        "shows.remove(1)\n",
        "print(shows)"
      ],
      "metadata": {
        "colab": {
          "base_uri": "https://localhost:8080/"
        },
        "id": "iyG7-VkJ5fAk",
        "outputId": "1107556c-176b-4df0-dead-4e41848d8dd2"
      },
      "execution_count": 36,
      "outputs": [
        {
          "output_type": "stream",
          "name": "stdout",
          "text": [
            "{2, (2, 3, 4)}\n"
          ]
        }
      ]
    },
    {
      "cell_type": "code",
      "source": [
        "shows.remove(0)"
      ],
      "metadata": {
        "colab": {
          "base_uri": "https://localhost:8080/",
          "height": 141
        },
        "id": "kxWl2Bk-59h3",
        "outputId": "2ea8db94-7b2b-4e44-d0a3-a871299611fd"
      },
      "execution_count": 37,
      "outputs": [
        {
          "output_type": "error",
          "ename": "KeyError",
          "evalue": "0",
          "traceback": [
            "\u001b[0;31m---------------------------------------------------------------------------\u001b[0m",
            "\u001b[0;31mKeyError\u001b[0m                                  Traceback (most recent call last)",
            "\u001b[0;32m/tmp/ipython-input-1324567889.py\u001b[0m in \u001b[0;36m<cell line: 0>\u001b[0;34m()\u001b[0m\n\u001b[0;32m----> 1\u001b[0;31m \u001b[0mshows\u001b[0m\u001b[0;34m.\u001b[0m\u001b[0mremove\u001b[0m\u001b[0;34m(\u001b[0m\u001b[0;36m0\u001b[0m\u001b[0;34m)\u001b[0m\u001b[0;34m\u001b[0m\u001b[0;34m\u001b[0m\u001b[0m\n\u001b[0m",
            "\u001b[0;31mKeyError\u001b[0m: 0"
          ]
        }
      ]
    },
    {
      "cell_type": "code",
      "source": [
        "shows.discard(0) #safer than remove as it doesnt raise an error if item not present in set\n",
        "print(shows)"
      ],
      "metadata": {
        "colab": {
          "base_uri": "https://localhost:8080/"
        },
        "id": "otpJIKGe6CRF",
        "outputId": "e42a45c5-3ad9-416f-d06c-2d36022ed4aa"
      },
      "execution_count": 38,
      "outputs": [
        {
          "output_type": "stream",
          "name": "stdout",
          "text": [
            "{2, (2, 3, 4)}\n"
          ]
        }
      ]
    },
    {
      "cell_type": "markdown",
      "source": [
        "# 4: Set Operations (`union()`, `intersection()`, `difference()`)"
      ],
      "metadata": {
        "id": "z6CDZi4l6RLl"
      }
    },
    {
      "cell_type": "code",
      "source": [
        "chocolates = {'perk', 'kitkat', '5star'}\n",
        "icecreams = {\"chocolate\", \"vanilla\", \"Oreo\"}\n",
        "cakes = {\"chocolate\", \"vanilla\", \"blackforest\"}\n",
        "desserts = chocolates.union(icecreams)\n",
        "desserts = desserts.union(cakes)\n",
        "print(f\"all desserts are {desserts}\")"
      ],
      "metadata": {
        "colab": {
          "base_uri": "https://localhost:8080/"
        },
        "id": "gTfAIO9e6S17",
        "outputId": "35dfb74e-f5c1-4c3d-8ae1-61c3c46ffc81"
      },
      "execution_count": 62,
      "outputs": [
        {
          "output_type": "stream",
          "name": "stdout",
          "text": [
            "all desserts are {'vanilla', 'kitkat', 'Oreo', 'chocolate', 'perk', '5star', 'blackforest'}\n"
          ]
        }
      ]
    },
    {
      "cell_type": "code",
      "source": [
        "print(f\"icecreams common with cakes are {icecreams.intersection(cakes)}\")"
      ],
      "metadata": {
        "colab": {
          "base_uri": "https://localhost:8080/"
        },
        "id": "9hjPkuoyETBP",
        "outputId": "d9e43866-0f2b-4140-bb72-998b93765e47"
      },
      "execution_count": 64,
      "outputs": [
        {
          "output_type": "stream",
          "name": "stdout",
          "text": [
            "icecreams common with cakes are {'vanilla', 'chocolate'}\n"
          ]
        }
      ]
    },
    {
      "cell_type": "code",
      "source": [
        "desserts.difference(cakes)"
      ],
      "metadata": {
        "colab": {
          "base_uri": "https://localhost:8080/"
        },
        "id": "L0PNDzX3EnNB",
        "outputId": "ae98e5f8-7a7f-4a7e-ec03-96def1f26a5d"
      },
      "execution_count": 55,
      "outputs": [
        {
          "output_type": "execute_result",
          "data": {
            "text/plain": [
              "{'5star', 'Oreo', 'kitkat', 'perk'}"
            ]
          },
          "metadata": {},
          "execution_count": 55
        }
      ]
    },
    {
      "cell_type": "code",
      "source": [
        "cakes.difference(desserts)"
      ],
      "metadata": {
        "colab": {
          "base_uri": "https://localhost:8080/"
        },
        "id": "ozotMs9pE8TK",
        "outputId": "46097be1-6dfa-4389-c267-a24e3432b1b0"
      },
      "execution_count": 54,
      "outputs": [
        {
          "output_type": "execute_result",
          "data": {
            "text/plain": [
              "{'blackforest'}"
            ]
          },
          "metadata": {},
          "execution_count": 54
        }
      ]
    },
    {
      "cell_type": "code",
      "source": [
        "desserts.symmetric_difference(cakes)"
      ],
      "metadata": {
        "colab": {
          "base_uri": "https://localhost:8080/"
        },
        "id": "J7dMRLsmFEaN",
        "outputId": "79675dd3-700a-4ee3-a024-f1942605ecf1"
      },
      "execution_count": 56,
      "outputs": [
        {
          "output_type": "execute_result",
          "data": {
            "text/plain": [
              "{'5star', 'Oreo', 'blackforest', 'kitkat', 'perk'}"
            ]
          },
          "metadata": {},
          "execution_count": 56
        }
      ]
    },
    {
      "cell_type": "code",
      "source": [
        "cakes.symmetric_difference(desserts)"
      ],
      "metadata": {
        "colab": {
          "base_uri": "https://localhost:8080/"
        },
        "id": "1RJo-MkCFH6q",
        "outputId": "b672f65a-5302-42c3-e0ab-34b1292614ca"
      },
      "execution_count": 57,
      "outputs": [
        {
          "output_type": "execute_result",
          "data": {
            "text/plain": [
              "{'5star', 'Oreo', 'blackforest', 'kitkat', 'perk'}"
            ]
          },
          "metadata": {},
          "execution_count": 57
        }
      ]
    },
    {
      "cell_type": "code",
      "source": [
        "cakes.issubset(desserts)"
      ],
      "metadata": {
        "colab": {
          "base_uri": "https://localhost:8080/"
        },
        "id": "cX-nv31NGAVF",
        "outputId": "57ea79fa-c6d2-4f0c-8034-94102f02054d"
      },
      "execution_count": 65,
      "outputs": [
        {
          "output_type": "execute_result",
          "data": {
            "text/plain": [
              "True"
            ]
          },
          "metadata": {},
          "execution_count": 65
        }
      ]
    },
    {
      "cell_type": "code",
      "source": [
        "desserts.issubset(cakes)"
      ],
      "metadata": {
        "colab": {
          "base_uri": "https://localhost:8080/"
        },
        "id": "wcJmxzykGE1E",
        "outputId": "7e2513f4-6c74-4986-d46a-01d74ccd6385"
      },
      "execution_count": 66,
      "outputs": [
        {
          "output_type": "execute_result",
          "data": {
            "text/plain": [
              "False"
            ]
          },
          "metadata": {},
          "execution_count": 66
        }
      ]
    },
    {
      "cell_type": "code",
      "source": [
        "desserts.issuperset(cakes)"
      ],
      "metadata": {
        "colab": {
          "base_uri": "https://localhost:8080/"
        },
        "id": "nZrIndCKGJPo",
        "outputId": "535bc46a-ae51-408a-89d9-ec8595426a39"
      },
      "execution_count": 67,
      "outputs": [
        {
          "output_type": "execute_result",
          "data": {
            "text/plain": [
              "True"
            ]
          },
          "metadata": {},
          "execution_count": 67
        }
      ]
    },
    {
      "cell_type": "code",
      "source": [
        "chocolates.isdisjoint(cakes)"
      ],
      "metadata": {
        "colab": {
          "base_uri": "https://localhost:8080/"
        },
        "id": "6McJs0ofGPHc",
        "outputId": "450f88f7-eac9-447f-8cca-05167dad382f"
      },
      "execution_count": 68,
      "outputs": [
        {
          "output_type": "execute_result",
          "data": {
            "text/plain": [
              "True"
            ]
          },
          "metadata": {},
          "execution_count": 68
        }
      ]
    },
    {
      "cell_type": "markdown",
      "source": [
        "1. Problem 1: Set Creation & Uniqueness:\n",
        "1. Create a list called `sensor_readings = [22.5, 23.0, 22.5, 24.1, 23.0, 25.0]`.\n",
        "2. Convert `sensor_readings` to a set named `unique_readings` to find all distinct temperature values. Print\n",
        "`unique_readings` and its length.\n",
        "3. Attempt to add `24.1` to `unique_readings` and then `26.0`. Print the set after each operation.\n",
        "2. Problem 2: Set Modification:\n",
        "1. You have a set of active users: `active_users = {\"Alice\", \"Bob\", \"Charlie\", \"David\"}`.\n",
        "Remove \"Charlie\" from the set.\n",
        "3. Use `pop()` to remove an arbitrary user and print the removed user's name and the updated set.\n",
        "4. Try to remove \"Eve\" from the set using `remove()` (expect a `KeyError`). Then, use `discard()` to try and remove \"Eve\"\n",
        "again and observe the difference."
      ],
      "metadata": {
        "id": "6j26FK-1GWrL"
      }
    },
    {
      "cell_type": "code",
      "source": [
        "from __future__ import unicode_literals\n",
        "sensor_readings = [22.5, 23.0, 22.5, 24.1, 23.0, 25.0]\n",
        "unique_readings = set(sensor_readings)\n",
        "print(unique_readings)\n",
        "print(f\"Len of {unique_readings} is {len(unique_readings)}\")"
      ],
      "metadata": {
        "colab": {
          "base_uri": "https://localhost:8080/"
        },
        "id": "dO688gh_GZQz",
        "outputId": "d28eba2e-55b0-4ac2-f75f-978b2e159245"
      },
      "execution_count": 70,
      "outputs": [
        {
          "output_type": "stream",
          "name": "stdout",
          "text": [
            "{24.1, 25.0, 22.5, 23.0}\n",
            "Len of {24.1, 25.0, 22.5, 23.0} is 4\n"
          ]
        }
      ]
    },
    {
      "cell_type": "code",
      "source": [
        "unique_readings.add(24.1) #duplicate\n",
        "print(unique_readings)\n",
        "unique_readings.add(26.0) #unique\n",
        "print(unique_readings)"
      ],
      "metadata": {
        "colab": {
          "base_uri": "https://localhost:8080/"
        },
        "id": "rX9LhHviGzik",
        "outputId": "825cbcbc-23d9-42ec-861f-6290229d91bc"
      },
      "execution_count": 71,
      "outputs": [
        {
          "output_type": "stream",
          "name": "stdout",
          "text": [
            "{24.1, 25.0, 22.5, 23.0}\n",
            "{22.5, 23.0, 24.1, 25.0, 26.0}\n"
          ]
        }
      ]
    },
    {
      "cell_type": "code",
      "source": [
        "active_users = {\"Alice\", \"Bob\", \"Charlie\", \"David\"}"
      ],
      "metadata": {
        "id": "aNR2AMwJHIKb"
      },
      "execution_count": 73,
      "outputs": []
    },
    {
      "cell_type": "code",
      "source": [
        "active_users.remove(\"Charlie\")\n",
        "print(active_users)"
      ],
      "metadata": {
        "colab": {
          "base_uri": "https://localhost:8080/"
        },
        "id": "zb23EVN-HPtI",
        "outputId": "9202dc83-f497-4dfc-d37a-498bbdfd9d72"
      },
      "execution_count": 74,
      "outputs": [
        {
          "output_type": "stream",
          "name": "stdout",
          "text": [
            "{'Alice', 'Bob', 'David'}\n"
          ]
        }
      ]
    },
    {
      "cell_type": "code",
      "source": [
        "active_users = {\"Alice\", \"Bob\", \"Charlie\", \"David\"}\n",
        "removed = active_users.pop()\n",
        "print(f\"removed user is {removed}\")"
      ],
      "metadata": {
        "colab": {
          "base_uri": "https://localhost:8080/"
        },
        "id": "CzgDuRi6HgnH",
        "outputId": "4d0d8aa9-ca66-4bcc-aeaa-7514db02a32d"
      },
      "execution_count": 75,
      "outputs": [
        {
          "output_type": "stream",
          "name": "stdout",
          "text": [
            "removed user is Alice\n"
          ]
        }
      ]
    },
    {
      "cell_type": "code",
      "source": [
        "print(f\"updated set is {active_users}\")"
      ],
      "metadata": {
        "colab": {
          "base_uri": "https://localhost:8080/"
        },
        "id": "ozPXPC1PHqs4",
        "outputId": "df4c7371-f1a0-413c-8339-adb9d3f5c937"
      },
      "execution_count": 76,
      "outputs": [
        {
          "output_type": "stream",
          "name": "stdout",
          "text": [
            "updated set is {'Bob', 'Charlie', 'David'}\n"
          ]
        }
      ]
    },
    {
      "cell_type": "code",
      "source": [
        "active_users.remove(\"eve\")"
      ],
      "metadata": {
        "colab": {
          "base_uri": "https://localhost:8080/",
          "height": 141
        },
        "id": "Wl8duwGVH5mQ",
        "outputId": "9ce212a1-0aab-4c81-a156-a6c287b6d2ff"
      },
      "execution_count": 77,
      "outputs": [
        {
          "output_type": "error",
          "ename": "KeyError",
          "evalue": "'eve'",
          "traceback": [
            "\u001b[0;31m---------------------------------------------------------------------------\u001b[0m",
            "\u001b[0;31mKeyError\u001b[0m                                  Traceback (most recent call last)",
            "\u001b[0;32m/tmp/ipython-input-3492245863.py\u001b[0m in \u001b[0;36m<cell line: 0>\u001b[0;34m()\u001b[0m\n\u001b[0;32m----> 1\u001b[0;31m \u001b[0mactive_users\u001b[0m\u001b[0;34m.\u001b[0m\u001b[0mremove\u001b[0m\u001b[0;34m(\u001b[0m\u001b[0;34m\"eve\"\u001b[0m\u001b[0;34m)\u001b[0m\u001b[0;34m\u001b[0m\u001b[0;34m\u001b[0m\u001b[0m\n\u001b[0m",
            "\u001b[0;31mKeyError\u001b[0m: 'eve'"
          ]
        }
      ]
    },
    {
      "cell_type": "code",
      "source": [
        "active_users.discard(\"eve\")\n",
        "print(active_users)"
      ],
      "metadata": {
        "colab": {
          "base_uri": "https://localhost:8080/"
        },
        "id": "nSPH3q4lH8lO",
        "outputId": "eb9a5460-d834-4c0e-d556-b4745c007b9c"
      },
      "execution_count": 79,
      "outputs": [
        {
          "output_type": "stream",
          "name": "stdout",
          "text": [
            "{'Bob', 'Charlie', 'David'}\n"
          ]
        }
      ]
    },
    {
      "cell_type": "markdown",
      "source": [
        "3. Problem 3: Set Operations:\n",
        "1. You have two sets of programming languages: `frontend_langs = {\"HTML\", \"CSS\", \"JavaScript\", \"Python\"}` and\n",
        "`backend_langs = {\"Python\", \"Java\", \"C#\", \"SQL\"}`.\n",
        "2. Find all unique languages from both sets (union).\n",
        "3. Find languages common to both frontend and backend development (intersection).\n",
        "4. Find languages that are primarily frontend but not backend (difference).\n",
        "5. Check if `{\"HTML\", \"CSS\"}` is a subset of `frontend_langs`."
      ],
      "metadata": {
        "id": "iB0FY_myIHqO"
      }
    },
    {
      "cell_type": "code",
      "source": [
        "frontend_langs = {\"HTML\", \"CSS\", \"JavaScript\", \"Python\"}\n",
        "backend_langs = {\"Python\", \"Java\", \"C#\", \"SQL\"}\n",
        "\n",
        "print(f\"all uniques langs in both frontend and backend are : {frontend_langs.union(backend_langs)}\")\n"
      ],
      "metadata": {
        "colab": {
          "base_uri": "https://localhost:8080/"
        },
        "id": "KysaOIkbIIYz",
        "outputId": "818b315e-a9a1-4c9e-a945-56cad972f355"
      },
      "execution_count": 82,
      "outputs": [
        {
          "output_type": "stream",
          "name": "stdout",
          "text": [
            "all uniques langs in both frontend and backend are : {'C#', 'Java', 'JavaScript', 'HTML', 'CSS', 'SQL', 'Python'}\n"
          ]
        }
      ]
    },
    {
      "cell_type": "code",
      "source": [
        "print(f\"common languages are: {frontend_langs.intersection(backend_langs)}\")"
      ],
      "metadata": {
        "colab": {
          "base_uri": "https://localhost:8080/"
        },
        "id": "zOTITFW_Io4O",
        "outputId": "65e99380-c3fa-45a8-edc5-a0e372d6d690"
      },
      "execution_count": 83,
      "outputs": [
        {
          "output_type": "stream",
          "name": "stdout",
          "text": [
            "common languages are: {'Python'}\n"
          ]
        }
      ]
    },
    {
      "cell_type": "code",
      "source": [
        "print(f\"languages in frontend but not in backend are: {frontend_langs.difference(backend_langs)}\")"
      ],
      "metadata": {
        "colab": {
          "base_uri": "https://localhost:8080/"
        },
        "id": "YhgMn1EFIx6_",
        "outputId": "8fab50cc-8950-492e-a830-0bd1fe6dec8d"
      },
      "execution_count": 84,
      "outputs": [
        {
          "output_type": "stream",
          "name": "stdout",
          "text": [
            "languages in frontend but not in backend are: {'CSS', 'HTML', 'JavaScript'}\n"
          ]
        }
      ]
    },
    {
      "cell_type": "code",
      "source": [
        "print(f\"languages in backend but not in frontend are: {backend_langs.difference(frontend_langs)}\")"
      ],
      "metadata": {
        "colab": {
          "base_uri": "https://localhost:8080/"
        },
        "id": "2imti4DvI6Vm",
        "outputId": "dcfe772a-4a3f-43af-8fc2-4d64187c35a8"
      },
      "execution_count": 85,
      "outputs": [
        {
          "output_type": "stream",
          "name": "stdout",
          "text": [
            "languages in backend but not in frontend are: {'SQL', 'C#', 'Java'}\n"
          ]
        }
      ]
    },
    {
      "cell_type": "code",
      "source": [
        "{\"HTML\", \"CSS\"}.issubset(frontend_langs)"
      ],
      "metadata": {
        "colab": {
          "base_uri": "https://localhost:8080/"
        },
        "id": "_-drbRXqJJQb",
        "outputId": "7fbcf474-d317-4507-da48-caf9c9528dbf"
      },
      "execution_count": 86,
      "outputs": [
        {
          "output_type": "execute_result",
          "data": {
            "text/plain": [
              "True"
            ]
          },
          "metadata": {},
          "execution_count": 86
        }
      ]
    }
  ]
}