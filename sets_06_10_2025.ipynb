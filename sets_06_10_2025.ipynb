{
  "nbformat": 4,
  "nbformat_minor": 0,
  "metadata": {
    "colab": {
      "provenance": []
    },
    "kernelspec": {
      "name": "python3",
      "display_name": "Python 3"
    },
    "language_info": {
      "name": "python"
    }
  },
  "cells": [
    {
      "cell_type": "markdown",
      "source": [
        "# Sets: len(), add(), remove(), pop(), union(), intersection(), difference()"
      ],
      "metadata": {
        "id": "8weby4RaptDT"
      }
    },
    {
      "cell_type": "markdown",
      "source": [
        "##1. Creating and finding length of a set\n",
        "Create a set of unique customer IDs `{'C101', 'C102', 'C103'}` and print its length."
      ],
      "metadata": {
        "id": "HtScKkxjuJph"
      }
    },
    {
      "cell_type": "code",
      "execution_count": 25,
      "metadata": {
        "id": "hS5HpR0RpocP",
        "colab": {
          "base_uri": "https://localhost:8080/"
        },
        "outputId": "d6771200-7342-4959-c2b8-8188eb19961e"
      },
      "outputs": [
        {
          "output_type": "stream",
          "name": "stdout",
          "text": [
            "3\n"
          ]
        }
      ],
      "source": [
        "customer_ids = {'C101', 'C102', 'C103'}\n",
        "print(len(customer_ids))"
      ]
    },
    {
      "cell_type": "markdown",
      "source": [
        "##2. Adding an item with `add()`\n",
        "\n",
        "To the `customer_ids` set, add a new ID 'C104' and print the set. Try adding 'C101' again\n",
        "and observe the result."
      ],
      "metadata": {
        "id": "_rzs5Hltua55"
      }
    },
    {
      "cell_type": "code",
      "source": [
        "customer_ids.add('C104')\n",
        "print(customer_ids)"
      ],
      "metadata": {
        "colab": {
          "base_uri": "https://localhost:8080/"
        },
        "id": "4_pF2KKBucni",
        "outputId": "437a3382-3ab1-4882-bfd8-ba78b51d1160"
      },
      "execution_count": 26,
      "outputs": [
        {
          "output_type": "stream",
          "name": "stdout",
          "text": [
            "{'C104', 'C101', 'C103', 'C102'}\n"
          ]
        }
      ]
    },
    {
      "cell_type": "code",
      "source": [
        "customer_ids.add('C101')\n",
        "print(customer_ids) #duplicates are not allowed in sets"
      ],
      "metadata": {
        "colab": {
          "base_uri": "https://localhost:8080/"
        },
        "id": "o0VOttXvuqgF",
        "outputId": "14f44f69-9e82-4a47-f952-cfa7a6390493"
      },
      "execution_count": 27,
      "outputs": [
        {
          "output_type": "stream",
          "name": "stdout",
          "text": [
            "{'C104', 'C101', 'C103', 'C102'}\n"
          ]
        }
      ]
    },
    {
      "cell_type": "markdown",
      "source": [
        "##3. Removing an item with `remove()`\n",
        "Remove the ID 'C102' from the set and print the result. What happens if you try to\n",
        "remove an ID that isn't in the set?"
      ],
      "metadata": {
        "id": "EZVyNUJ4u6nc"
      }
    },
    {
      "cell_type": "code",
      "source": [
        "customer_ids.remove(\"C102\")\n",
        "print(customer_ids)"
      ],
      "metadata": {
        "colab": {
          "base_uri": "https://localhost:8080/"
        },
        "id": "9gP0In35u775",
        "outputId": "0e07d09a-82d1-476d-85d8-32182599764a"
      },
      "execution_count": 28,
      "outputs": [
        {
          "output_type": "stream",
          "name": "stdout",
          "text": [
            "{'C104', 'C101', 'C103'}\n"
          ]
        }
      ]
    },
    {
      "cell_type": "code",
      "source": [
        "customer_ids.remove(input(\"Enter a customer ID to remove from our set: \"))\n",
        "print(customer_ids)"
      ],
      "metadata": {
        "colab": {
          "base_uri": "https://localhost:8080/",
          "height": 176
        },
        "id": "xqo049Dzv3Sv",
        "outputId": "ebb7a782-f805-4728-ebe7-346d56333e85"
      },
      "execution_count": 29,
      "outputs": [
        {
          "name": "stdout",
          "output_type": "stream",
          "text": [
            "Enter a customer ID to remove from our set: C78\n"
          ]
        },
        {
          "output_type": "error",
          "ename": "KeyError",
          "evalue": "'C78'",
          "traceback": [
            "\u001b[0;31m---------------------------------------------------------------------------\u001b[0m",
            "\u001b[0;31mKeyError\u001b[0m                                  Traceback (most recent call last)",
            "\u001b[0;32m/tmp/ipython-input-1988720535.py\u001b[0m in \u001b[0;36m<cell line: 0>\u001b[0;34m()\u001b[0m\n\u001b[0;32m----> 1\u001b[0;31m \u001b[0mcustomer_ids\u001b[0m\u001b[0;34m.\u001b[0m\u001b[0mremove\u001b[0m\u001b[0;34m(\u001b[0m\u001b[0minput\u001b[0m\u001b[0;34m(\u001b[0m\u001b[0;34m\"Enter a customer ID to remove from our set: \"\u001b[0m\u001b[0;34m)\u001b[0m\u001b[0;34m)\u001b[0m\u001b[0;34m\u001b[0m\u001b[0;34m\u001b[0m\u001b[0m\n\u001b[0m\u001b[1;32m      2\u001b[0m \u001b[0mprint\u001b[0m\u001b[0;34m(\u001b[0m\u001b[0mcustomer_ids\u001b[0m\u001b[0;34m)\u001b[0m\u001b[0;34m\u001b[0m\u001b[0;34m\u001b[0m\u001b[0m\n",
            "\u001b[0;31mKeyError\u001b[0m: 'C78'"
          ]
        }
      ]
    },
    {
      "cell_type": "code",
      "source": [
        "try:\n",
        "  customer_ids.remove(input(\"Enter a customer ID to remove from our set: \"))\n",
        "  print(customer_ids)\n",
        "except KeyError as ke:\n",
        "  print(\"Enter a key(item) that is present in the set.\")"
      ],
      "metadata": {
        "colab": {
          "base_uri": "https://localhost:8080/"
        },
        "id": "8SVL_ff8vFj3",
        "outputId": "c8e5a104-45f6-4d55-831e-13f14fc59694"
      },
      "execution_count": 30,
      "outputs": [
        {
          "output_type": "stream",
          "name": "stdout",
          "text": [
            "Enter a customer ID to remove from our set: `C101\n",
            "{'C104', 'C103'}\n"
          ]
        }
      ]
    },
    {
      "cell_type": "markdown",
      "source": [
        "##4. Removing a random item with `pop()`\n",
        "From the set `{'Vanilla', 'Chocolate', 'Strawberry'}`, use `pop()` to remove an item and print\n",
        "the removed item and the new set. Note that sets are unordered."
      ],
      "metadata": {
        "id": "rVL-NleywP4r"
      }
    },
    {
      "cell_type": "code",
      "source": [
        "fl_set = {'Vanilla', 'Chocolate', 'Strawberry'}\n",
        "a= fl_set.pop()\n",
        "print(f\"Removed item is {a}\")\n",
        "print(fl_set)"
      ],
      "metadata": {
        "colab": {
          "base_uri": "https://localhost:8080/"
        },
        "id": "mkMLAaz7wTKp",
        "outputId": "2c252e4c-27c6-44bd-c336-2f264de3591e"
      },
      "execution_count": 32,
      "outputs": [
        {
          "output_type": "stream",
          "name": "stdout",
          "text": [
            "Removed item is Strawberry\n",
            "{'Vanilla', 'Chocolate'}\n"
          ]
        }
      ]
    },
    {
      "cell_type": "markdown",
      "source": [
        "##5. Union of two sets\n",
        "You have a list of morning shift employees `set_morning_shift = {'Priya', 'Rahul'}` and\n",
        "evening shift employees `set_evening_shift = {'Anjali', 'Rahul'}`. Find and print the set of\n",
        "all unique employees."
      ],
      "metadata": {
        "id": "8Zw5aa8Xw6w0"
      }
    },
    {
      "cell_type": "code",
      "source": [
        "set_morning_shift = {'Priya', 'Rahul'}\n",
        "set_evening_shift = {'Anjali', 'Rahul'}\n",
        "all_employees = set_morning_shift.union(set_evening_shift)\n",
        "all_employees"
      ],
      "metadata": {
        "colab": {
          "base_uri": "https://localhost:8080/"
        },
        "id": "x6R7WdEsw8Hp",
        "outputId": "89866b8f-133b-401e-d141-04eab9b018c7"
      },
      "execution_count": 1,
      "outputs": [
        {
          "output_type": "execute_result",
          "data": {
            "text/plain": [
              "{'Anjali', 'Priya', 'Rahul'}"
            ]
          },
          "metadata": {},
          "execution_count": 1
        }
      ]
    },
    {
      "cell_type": "markdown",
      "source": [
        "##6. Intersection of two sets\n",
        "From the same two sets, find and print the names of employees who work both shifts."
      ],
      "metadata": {
        "id": "_5lAXfOPJtTY"
      }
    },
    {
      "cell_type": "code",
      "source": [
        "set_morning_shift.intersection(set_evening_shift)"
      ],
      "metadata": {
        "colab": {
          "base_uri": "https://localhost:8080/"
        },
        "id": "6qg2Gr_7Jvyo",
        "outputId": "224b0998-579c-47a7-e074-afc53602dc1c"
      },
      "execution_count": 2,
      "outputs": [
        {
          "output_type": "execute_result",
          "data": {
            "text/plain": [
              "{'Rahul'}"
            ]
          },
          "metadata": {},
          "execution_count": 2
        }
      ]
    },
    {
      "cell_type": "markdown",
      "source": [
        "##7. Difference of two sets\n",
        "Find and print the names of employees who work only the morning shift, not the evening\n",
        "shift."
      ],
      "metadata": {
        "id": "8sd7LREJJ5s-"
      }
    },
    {
      "cell_type": "code",
      "source": [
        "print(f\"employees in morning shift but NOT in evening shift : {set_morning_shift.difference(set_evening_shift)}\")"
      ],
      "metadata": {
        "colab": {
          "base_uri": "https://localhost:8080/"
        },
        "id": "IvvNxMI_J4ry",
        "outputId": "a0047a84-e34a-4e38-c1bf-1428d0aaa216"
      },
      "execution_count": 3,
      "outputs": [
        {
          "output_type": "stream",
          "name": "stdout",
          "text": [
            "employees in morning shift but NOT in evening shift : {'Priya'}\n"
          ]
        }
      ]
    },
    {
      "cell_type": "markdown",
      "source": [
        "##8. Checking for a subset\n",
        "You have a set of available toppings `{'Sprinkles', 'Nuts', 'Chocolate Sauce'}` and a\n",
        "customer's requested toppings `{'Nuts', 'Sprinkles'}`. Check if the customer's request is a\n",
        "subset of the available toppings and print `True` or `False`."
      ],
      "metadata": {
        "id": "Wy35X6upKQcz"
      }
    },
    {
      "cell_type": "code",
      "source": [
        "topping = {'Sprinkles', 'Nuts', 'Chocolate Sauce'}\n",
        "check = {'Nuts', 'Sprinkles'}.issubset(topping)\n",
        "print(f\"customer's request is doable\" if check else \"not doable\")"
      ],
      "metadata": {
        "colab": {
          "base_uri": "https://localhost:8080/"
        },
        "id": "jnPSu7gdKR6C",
        "outputId": "663fe3e3-2860-4176-bf90-f04531cc21af"
      },
      "execution_count": 6,
      "outputs": [
        {
          "output_type": "stream",
          "name": "stdout",
          "text": [
            "customer's request is doable\n"
          ]
        }
      ]
    },
    {
      "cell_type": "markdown",
      "source": [
        "##9. Using a set to find unique items in a list\n",
        "You have a list of all sales `['Vanilla', 'Chocolate', 'Vanilla', 'Strawberry', 'Chocolate']`. Find\n",
        "all the unique flavors that were sold. Print the result as a list."
      ],
      "metadata": {
        "id": "5_l91k_uK9kO"
      }
    },
    {
      "cell_type": "code",
      "source": [
        "all_sales_list = ['Vanilla', 'Chocolate', 'Vanilla', 'Strawberry', 'Chocolate']\n",
        "all_sales_set = set(all_sales_list)\n",
        "print(f\"list of all uniques flavors that were sold: {list(all_sales_set)}\")"
      ],
      "metadata": {
        "colab": {
          "base_uri": "https://localhost:8080/"
        },
        "id": "ip-U7CEsK-6g",
        "outputId": "302656a0-2514-46b4-91db-5349614cdd9c"
      },
      "execution_count": 7,
      "outputs": [
        {
          "output_type": "stream",
          "name": "stdout",
          "text": [
            "list of all uniques flavors that were sold: ['Strawberry', 'Vanilla', 'Chocolate']\n"
          ]
        }
      ]
    },
    {
      "cell_type": "markdown",
      "source": [
        "##10. Clearing a set\n",
        "Empty the set of available toppings from the previous problem and print the empty set."
      ],
      "metadata": {
        "id": "21q_4F01LU7r"
      }
    },
    {
      "cell_type": "code",
      "source": [
        "topping = {'Sprinkles', 'Nuts', 'Chocolate Sauce'}\n",
        "while topping:\n",
        "  topping.pop()\n",
        "print(topping)"
      ],
      "metadata": {
        "colab": {
          "base_uri": "https://localhost:8080/"
        },
        "id": "SnKxuTl2LUFl",
        "outputId": "8b90d9ba-7c51-43d8-a032-f50aeaeb8475"
      },
      "execution_count": 11,
      "outputs": [
        {
          "output_type": "stream",
          "name": "stdout",
          "text": [
            "set()\n"
          ]
        }
      ]
    }
  ]
}