{
  "nbformat": 4,
  "nbformat_minor": 0,
  "metadata": {
    "colab": {
      "provenance": [],
      "authorship_tag": "ABX9TyN1ZLjZFKBdsSHlv3ScQt5J",
      "include_colab_link": true
    },
    "kernelspec": {
      "name": "python3",
      "display_name": "Python 3"
    },
    "language_info": {
      "name": "python"
    }
  },
  "cells": [
    {
      "cell_type": "markdown",
      "metadata": {
        "id": "view-in-github",
        "colab_type": "text"
      },
      "source": [
        "<a href=\"https://colab.research.google.com/github/Shamitha018/Data-Structures-in-Python/blob/main/lambda_function_29_10_2025.ipynb\" target=\"_parent\"><img src=\"https://colab.research.google.com/assets/colab-badge.svg\" alt=\"Open In Colab\"/></a>"
      ]
    },
    {
      "cell_type": "code",
      "execution_count": null,
      "metadata": {
        "id": "XG76Klw-Ii0N"
      },
      "outputs": [],
      "source": [
        "<fun name> = lambda <arg> : <expression>\n",
        "<fun name> = lambda <arg1> <arg2> : <Expression>\n",
        "<fun name> = lambda <arg> : <if out> <if cond> else <else_out>"
      ]
    },
    {
      "cell_type": "code",
      "source": [
        "even_odd = lambda i : 'even' if i%2==0 else 'odd'\n",
        "even_odd(21)"
      ],
      "metadata": {
        "colab": {
          "base_uri": "https://localhost:8080/",
          "height": 36
        },
        "id": "71gLLY2-JF5j",
        "outputId": "a63780c9-8f0b-43ae-b8d7-65bf838d1ea6"
      },
      "execution_count": null,
      "outputs": [
        {
          "output_type": "execute_result",
          "data": {
            "text/plain": [
              "'odd'"
            ],
            "application/vnd.google.colaboratory.intrinsic+json": {
              "type": "string"
            }
          },
          "metadata": {},
          "execution_count": 2
        }
      ]
    },
    {
      "cell_type": "markdown",
      "source": [
        "two numbers, greater number"
      ],
      "metadata": {
        "id": "vu5UJ1OvJVO_"
      }
    },
    {
      "cell_type": "code",
      "source": [
        "<fun name> = lambda <arg> : <if out> <if cond> else <else out>"
      ],
      "metadata": {
        "id": "uvzNGD8xJa-6"
      },
      "execution_count": null,
      "outputs": []
    },
    {
      "cell_type": "code",
      "source": [
        "greater_num = lambda n1,n2 : f'{n1} is greater than {n2}' if n1>n2 else f'{n2} is greater'\n",
        "greater_num(100,200)"
      ],
      "metadata": {
        "colab": {
          "base_uri": "https://localhost:8080/",
          "height": 36
        },
        "id": "rojWCmvHJU6_",
        "outputId": "8c44f37a-45dc-48db-bada-ff12dffe7aa7"
      },
      "execution_count": null,
      "outputs": [
        {
          "output_type": "execute_result",
          "data": {
            "text/plain": [
              "'200 is greater'"
            ],
            "application/vnd.google.colaboratory.intrinsic+json": {
              "type": "string"
            }
          },
          "metadata": {},
          "execution_count": 3
        }
      ]
    },
    {
      "cell_type": "code",
      "source": [
        "grade = lambda n : f'A' if n>=75 \\\n",
        "else f'B' if n>= 60 \\\n",
        "else f'C'\n",
        "grade(67)"
      ],
      "metadata": {
        "colab": {
          "base_uri": "https://localhost:8080/",
          "height": 36
        },
        "id": "Lz6FeqfzKU9H",
        "outputId": "8229cdb8-b728-40ec-a054-e5c7ff1fcb66"
      },
      "execution_count": null,
      "outputs": [
        {
          "output_type": "execute_result",
          "data": {
            "text/plain": [
              "'B'"
            ],
            "application/vnd.google.colaboratory.intrinsic+json": {
              "type": "string"
            }
          },
          "metadata": {},
          "execution_count": 5
        }
      ]
    },
    {
      "cell_type": "code",
      "source": [
        "grade = lambda n : f'A' if n>=75\n",
        "else f'B' if n>= 60\n",
        "else f'C'\n",
        "grade(67)"
      ],
      "metadata": {
        "colab": {
          "base_uri": "https://localhost:8080/",
          "height": 106
        },
        "id": "K15V8DMvLGa4",
        "outputId": "b04c1c2a-3f23-438b-f88c-43a427a2a8f7"
      },
      "execution_count": null,
      "outputs": [
        {
          "output_type": "error",
          "ename": "SyntaxError",
          "evalue": "expected 'else' after 'if' expression (ipython-input-958266279.py, line 1)",
          "traceback": [
            "\u001b[0;36m  File \u001b[0;32m\"/tmp/ipython-input-958266279.py\"\u001b[0;36m, line \u001b[0;32m1\u001b[0m\n\u001b[0;31m    grade = lambda n : f'A' if n>=75\u001b[0m\n\u001b[0m                       ^\u001b[0m\n\u001b[0;31mSyntaxError\u001b[0m\u001b[0;31m:\u001b[0m expected 'else' after 'if' expression\n"
          ]
        }
      ]
    },
    {
      "cell_type": "code",
      "source": [
        "grade = (lambda n : f'A' if n>=75 \\\n",
        "else f'B' if n>= 60 \\\n",
        "else f'C' )\n",
        "grade(67)"
      ],
      "metadata": {
        "colab": {
          "base_uri": "https://localhost:8080/",
          "height": 36
        },
        "id": "jejUuvm6LI4N",
        "outputId": "4a2da111-f329-4185-99b3-8c44dccbfa15"
      },
      "execution_count": null,
      "outputs": [
        {
          "output_type": "execute_result",
          "data": {
            "text/plain": [
              "'B'"
            ],
            "application/vnd.google.colaboratory.intrinsic+json": {
              "type": "string"
            }
          },
          "metadata": {},
          "execution_count": 7
        }
      ]
    },
    {
      "cell_type": "markdown",
      "source": [
        "case-4: usage of lists in lambda function"
      ],
      "metadata": {
        "id": "vfh7f9i7LXo9"
      }
    },
    {
      "cell_type": "code",
      "source": [
        "l = ['hyd', 'Bengaluru', 'Pune', 'Mumbai']\n",
        "[i.title() for i in l]"
      ],
      "metadata": {
        "colab": {
          "base_uri": "https://localhost:8080/"
        },
        "id": "RLVaUfHRLbQu",
        "outputId": "70363b70-4c29-43a8-8646-b05ed9adf7c1"
      },
      "execution_count": null,
      "outputs": [
        {
          "output_type": "execute_result",
          "data": {
            "text/plain": [
              "['Hyd', 'Bengaluru', 'Pune', 'Mumbai']"
            ]
          },
          "metadata": {},
          "execution_count": 9
        }
      ]
    },
    {
      "cell_type": "markdown",
      "source": [
        "#argument: i\n",
        "#expression: i.capitalize()\n",
        "#lambda <arg> : <expression>"
      ],
      "metadata": {
        "id": "29MIaBxuMFWR"
      }
    },
    {
      "cell_type": "code",
      "source": [
        "lambda i : i.capitalize()"
      ],
      "metadata": {
        "colab": {
          "base_uri": "https://localhost:8080/"
        },
        "id": "hF9gAmqNMkS3",
        "outputId": "054bd9c5-ebf2-4a3b-c797-1dab3a74bc61"
      },
      "execution_count": null,
      "outputs": [
        {
          "output_type": "execute_result",
          "data": {
            "text/plain": [
              "<function __main__.<lambda>(i)>"
            ]
          },
          "metadata": {},
          "execution_count": 21
        }
      ]
    },
    {
      "cell_type": "code",
      "source": [
        "l= ['hyd', 'Bengaluru', 'Pune', 'Mumbai']\n",
        "(lambda i : i.capitalize(), l)"
      ],
      "metadata": {
        "colab": {
          "base_uri": "https://localhost:8080/"
        },
        "id": "uRGHq0xWMOqk",
        "outputId": "4794cd3b-e229-4b16-ca76-78bd2b20562d"
      },
      "execution_count": null,
      "outputs": [
        {
          "output_type": "execute_result",
          "data": {
            "text/plain": [
              "(<function __main__.<lambda>(i)>, ['hyd', 'Bengaluru', 'Pune', 'Mumbai'])"
            ]
          },
          "metadata": {},
          "execution_count": 18
        }
      ]
    },
    {
      "cell_type": "code",
      "source": [
        "lambda i : i.capitalize(), l\n",
        "map(lambda i : i.capitalize(), l)"
      ],
      "metadata": {
        "colab": {
          "base_uri": "https://localhost:8080/"
        },
        "id": "EfMjYpmfN1jG",
        "outputId": "9ac277a5-d179-4f1a-abf2-d399c719b736"
      },
      "execution_count": null,
      "outputs": [
        {
          "output_type": "execute_result",
          "data": {
            "text/plain": [
              "<map at 0x7bfbef7b80a0>"
            ]
          },
          "metadata": {},
          "execution_count": 19
        }
      ]
    },
    {
      "cell_type": "markdown",
      "source": [
        "to print the result we use list"
      ],
      "metadata": {
        "id": "EB55bj6nN8-j"
      }
    },
    {
      "cell_type": "code",
      "source": [
        "list(map(lambda i : i.capitalize(), l))"
      ],
      "metadata": {
        "colab": {
          "base_uri": "https://localhost:8080/"
        },
        "id": "Lw4M5U_pN_Kg",
        "outputId": "2e86f425-6d61-4327-aa53-9ac9788b914e"
      },
      "execution_count": null,
      "outputs": [
        {
          "output_type": "execute_result",
          "data": {
            "text/plain": [
              "['Hyd', 'Bengaluru', 'Pune', 'Mumbai']"
            ]
          },
          "metadata": {},
          "execution_count": 20
        }
      ]
    },
    {
      "cell_type": "markdown",
      "source": [
        "['Hyd', 'Benga#luru', 'Pune', 'Mum#bai']"
      ],
      "metadata": {
        "id": "axf7miPsPGim"
      }
    },
    {
      "cell_type": "code",
      "source": [
        "l = ['Hyd', 'Benga#luru', 'Pune', 'Mum#bai']\n",
        "for i in l:\n",
        "  if '#' in i:\n",
        "    print(i)\n"
      ],
      "metadata": {
        "id": "K69XC9BIPGIN"
      },
      "execution_count": null,
      "outputs": []
    },
    {
      "cell_type": "code",
      "source": [
        "list(map(lambda i: i, l if \"#\" in i else None))"
      ],
      "metadata": {
        "colab": {
          "base_uri": "https://localhost:8080/",
          "height": 141
        },
        "id": "v-jEksjYPzKD",
        "outputId": "00a1cc6d-88d7-4a53-f0ae-2f0abfd2c0b8"
      },
      "execution_count": null,
      "outputs": [
        {
          "output_type": "error",
          "ename": "TypeError",
          "evalue": "'NoneType' object is not iterable",
          "traceback": [
            "\u001b[0;31m---------------------------------------------------------------------------\u001b[0m",
            "\u001b[0;31mTypeError\u001b[0m                                 Traceback (most recent call last)",
            "\u001b[0;32m/tmp/ipython-input-3007074282.py\u001b[0m in \u001b[0;36m<cell line: 0>\u001b[0;34m()\u001b[0m\n\u001b[0;32m----> 1\u001b[0;31m \u001b[0mlist\u001b[0m\u001b[0;34m(\u001b[0m\u001b[0mmap\u001b[0m\u001b[0;34m(\u001b[0m\u001b[0;32mlambda\u001b[0m \u001b[0mi\u001b[0m\u001b[0;34m:\u001b[0m \u001b[0mi\u001b[0m\u001b[0;34m,\u001b[0m \u001b[0ml\u001b[0m \u001b[0;32mif\u001b[0m \u001b[0;34m\"#\"\u001b[0m \u001b[0;32min\u001b[0m \u001b[0mi\u001b[0m \u001b[0;32melse\u001b[0m \u001b[0;32mNone\u001b[0m\u001b[0;34m)\u001b[0m\u001b[0;34m)\u001b[0m\u001b[0;34m\u001b[0m\u001b[0;34m\u001b[0m\u001b[0m\n\u001b[0m",
            "\u001b[0;31mTypeError\u001b[0m: 'NoneType' object is not iterable"
          ]
        }
      ]
    },
    {
      "cell_type": "code",
      "source": [
        "l = ['Hyd', 'Benga#luru', 'Pune', 'Mum#bai']\n",
        "lambda i : '#' in i\n",
        "lambda i : '#' in i, l\n",
        "map(lambda i : '#' in i, l)\n",
        "list(map(lambda i : '#' in i, l))"
      ],
      "metadata": {
        "colab": {
          "base_uri": "https://localhost:8080/"
        },
        "id": "ockCpYJ9Qk3A",
        "outputId": "092e3dbb-7e18-4821-cb52-c0233db0fdac"
      },
      "execution_count": null,
      "outputs": [
        {
          "output_type": "execute_result",
          "data": {
            "text/plain": [
              "[False, True, False, True]"
            ]
          },
          "metadata": {},
          "execution_count": 29
        }
      ]
    },
    {
      "cell_type": "markdown",
      "source": [
        "FILTER"
      ],
      "metadata": {
        "id": "uWqnaZOFQ85W"
      }
    },
    {
      "cell_type": "code",
      "source": [
        "list(filter(lambda i : '#' in i, l))"
      ],
      "metadata": {
        "colab": {
          "base_uri": "https://localhost:8080/"
        },
        "id": "q2E_znQWQ_he",
        "outputId": "251c2381-2d5b-45f0-c07d-8832dab1f238"
      },
      "execution_count": null,
      "outputs": [
        {
          "output_type": "execute_result",
          "data": {
            "text/plain": [
              "['Benga#luru', 'Mum#bai']"
            ]
          },
          "metadata": {},
          "execution_count": 30
        }
      ]
    },
    {
      "cell_type": "markdown",
      "source": [
        "#wap to get square of element in list"
      ],
      "metadata": {
        "id": "TUZg-QWzSjhT"
      }
    },
    {
      "cell_type": "code",
      "source": [
        "l1 = [1,2, 3, 4]\n",
        "output = list(map(lambda i : i**2 , l1))\n",
        "output"
      ],
      "metadata": {
        "colab": {
          "base_uri": "https://localhost:8080/"
        },
        "id": "WbKeytk-Slz4",
        "outputId": "d46afa37-8539-481d-c9e5-17df0f5a5f97"
      },
      "execution_count": null,
      "outputs": [
        {
          "output_type": "execute_result",
          "data": {
            "text/plain": [
              "[1, 4, 9, 16]"
            ]
          },
          "metadata": {},
          "execution_count": 31
        }
      ]
    },
    {
      "cell_type": "markdown",
      "source": [
        "wap to retrive only first letter of element"
      ],
      "metadata": {
        "id": "gDpoEFaMS3z4"
      }
    },
    {
      "cell_type": "code",
      "source": [
        "l2 = ['Hyd', 'blr', 'chennai']\n",
        "list(map(lambda i : i[0], l2))"
      ],
      "metadata": {
        "colab": {
          "base_uri": "https://localhost:8080/"
        },
        "id": "flb_AcTgS86m",
        "outputId": "67a6ced8-5b91-46bd-b3a0-5c7324c4fae8"
      },
      "execution_count": null,
      "outputs": [
        {
          "output_type": "execute_result",
          "data": {
            "text/plain": [
              "['H', 'b', 'c']"
            ]
          },
          "metadata": {},
          "execution_count": 40
        }
      ]
    },
    {
      "cell_type": "code",
      "source": [],
      "metadata": {
        "id": "paalh44Ds4hc"
      },
      "execution_count": null,
      "outputs": []
    }
  ]
}