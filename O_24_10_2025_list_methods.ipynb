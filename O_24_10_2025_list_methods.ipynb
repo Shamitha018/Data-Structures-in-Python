{
  "nbformat": 4,
  "nbformat_minor": 0,
  "metadata": {
    "colab": {
      "provenance": [],
      "authorship_tag": "ABX9TyOTHhslNS/3K8c1k2zLg2wa",
      "include_colab_link": true
    },
    "kernelspec": {
      "name": "python3",
      "display_name": "Python 3"
    },
    "language_info": {
      "name": "python"
    }
  },
  "cells": [
    {
      "cell_type": "markdown",
      "metadata": {
        "id": "view-in-github",
        "colab_type": "text"
      },
      "source": [
        "<a href=\"https://colab.research.google.com/github/Shamitha018/Data-Structures-in-Python/blob/lists/O_24_10_2025_list_methods.ipynb\" target=\"_parent\"><img src=\"https://colab.research.google.com/assets/colab-badge.svg\" alt=\"Open In Colab\"/></a>"
      ]
    },
    {
      "cell_type": "markdown",
      "source": [
        "#Different methods in a list"
      ],
      "metadata": {
        "id": "l6EBkJdDkSVa"
      }
    },
    {
      "cell_type": "code",
      "source": [
        "dir([])"
      ],
      "metadata": {
        "colab": {
          "base_uri": "https://localhost:8080/"
        },
        "id": "CuBIzzTAkRxI",
        "outputId": "8113fea4-19a0-4ba8-a471-7b3cbce36026"
      },
      "execution_count": null,
      "outputs": [
        {
          "output_type": "execute_result",
          "data": {
            "text/plain": [
              "['__add__',\n",
              " '__class__',\n",
              " '__class_getitem__',\n",
              " '__contains__',\n",
              " '__delattr__',\n",
              " '__delitem__',\n",
              " '__dir__',\n",
              " '__doc__',\n",
              " '__eq__',\n",
              " '__format__',\n",
              " '__ge__',\n",
              " '__getattribute__',\n",
              " '__getitem__',\n",
              " '__getstate__',\n",
              " '__gt__',\n",
              " '__hash__',\n",
              " '__iadd__',\n",
              " '__imul__',\n",
              " '__init__',\n",
              " '__init_subclass__',\n",
              " '__iter__',\n",
              " '__le__',\n",
              " '__len__',\n",
              " '__lt__',\n",
              " '__mul__',\n",
              " '__ne__',\n",
              " '__new__',\n",
              " '__reduce__',\n",
              " '__reduce_ex__',\n",
              " '__repr__',\n",
              " '__reversed__',\n",
              " '__rmul__',\n",
              " '__setattr__',\n",
              " '__setitem__',\n",
              " '__sizeof__',\n",
              " '__str__',\n",
              " '__subclasshook__',\n",
              " 'append',\n",
              " 'clear',\n",
              " 'copy',\n",
              " 'count',\n",
              " 'extend',\n",
              " 'index',\n",
              " 'insert',\n",
              " 'pop',\n",
              " 'remove',\n",
              " 'reverse',\n",
              " 'sort']"
            ]
          },
          "metadata": {},
          "execution_count": 1
        }
      ]
    },
    {
      "cell_type": "markdown",
      "source": [
        "'append', #adds an element  </br>\n",
        " 'clear', #empties list </br>\n",
        " 'copy', #copy one list into another</br>\n",
        " 'count', #count of a particular element</br>\n",
        " 'extend', #joining</br>\n",
        " 'index', #returns index of an element</br>\n",
        " 'insert', #inserts element at an index</br>\n",
        " 'pop', #<> removes last element</br>\n",
        " 'remove', #removes an element</br>\n",
        " 'reverse', #reverse list</br>\n",
        " 'sort'#sorts list</br>"
      ],
      "metadata": {
        "id": "FRC2ew5tkdpW"
      }
    },
    {
      "cell_type": "markdown",
      "source": [
        "clear()"
      ],
      "metadata": {
        "id": "sDav7IDJlzb0"
      }
    },
    {
      "cell_type": "code",
      "source": [
        "lis = [10, 20 , 30, 40, 50, \"A\", \"B\", \"c\", \"d\", \"F\"]\n",
        "lis.clear()\n",
        "lis"
      ],
      "metadata": {
        "colab": {
          "base_uri": "https://localhost:8080/"
        },
        "id": "I9DaEEDblEhw",
        "outputId": "68bc15f4-15f8-4e04-f284-caac9f6dc17f"
      },
      "execution_count": null,
      "outputs": [
        {
          "output_type": "execute_result",
          "data": {
            "text/plain": [
              "[]"
            ]
          },
          "metadata": {},
          "execution_count": 5
        }
      ]
    },
    {
      "cell_type": "markdown",
      "source": [
        "copy()"
      ],
      "metadata": {
        "id": "p_-vItPPl2Iv"
      }
    },
    {
      "cell_type": "code",
      "source": [
        "list1 = [10, 20 , 30, 40, 50, \"A\", \"B\", \" C\", \"d\", \"F\"]\n",
        "list2 = list1.copy()\n",
        "list2"
      ],
      "metadata": {
        "colab": {
          "base_uri": "https://localhost:8080/"
        },
        "id": "SDUs90yWlbUG",
        "outputId": "1d9fd0b4-fdd6-429c-e3f5-67edc59292f6"
      },
      "execution_count": null,
      "outputs": [
        {
          "output_type": "execute_result",
          "data": {
            "text/plain": [
              "[10, 20, 30, 40, 50, 'A', 'B', ' C', 'd', 'F']"
            ]
          },
          "metadata": {},
          "execution_count": 6
        }
      ]
    },
    {
      "cell_type": "code",
      "source": [
        "list1"
      ],
      "metadata": {
        "colab": {
          "base_uri": "https://localhost:8080/"
        },
        "id": "LwSOa2AqlkLf",
        "outputId": "84ed5b8c-8581-4458-871b-068d0c3b4498"
      },
      "execution_count": null,
      "outputs": [
        {
          "output_type": "execute_result",
          "data": {
            "text/plain": [
              "[10, 20, 30, 40, 50, 'A', 'B', ' C', 'd', 'F']"
            ]
          },
          "metadata": {},
          "execution_count": 7
        }
      ]
    },
    {
      "cell_type": "markdown",
      "source": [
        "count()"
      ],
      "metadata": {
        "id": "5UOarU6cl5bk"
      }
    },
    {
      "cell_type": "code",
      "source": [
        "oka_list = [1, 1,1 , 1,1,1,1,11,1,1,11,1,1,1,8,8]\n",
        "oka_list.count(1)"
      ],
      "metadata": {
        "colab": {
          "base_uri": "https://localhost:8080/"
        },
        "id": "LVn_a9xNl4_v",
        "outputId": "c07ea63d-6828-4cf9-dc8d-c55a0f1d10b1"
      },
      "execution_count": null,
      "outputs": [
        {
          "output_type": "execute_result",
          "data": {
            "text/plain": [
              "12"
            ]
          },
          "metadata": {},
          "execution_count": 8
        }
      ]
    },
    {
      "cell_type": "markdown",
      "source": [
        "extend()"
      ],
      "metadata": {
        "id": "048wWRT-mHzE"
      }
    },
    {
      "cell_type": "code",
      "source": [
        "list1.extend(oka_list)\n",
        "list1"
      ],
      "metadata": {
        "colab": {
          "base_uri": "https://localhost:8080/"
        },
        "id": "6mWcPCpKmJfE",
        "outputId": "de3c6d3e-9807-4a83-8e16-d1d99c5543f2"
      },
      "execution_count": null,
      "outputs": [
        {
          "output_type": "execute_result",
          "data": {
            "text/plain": [
              "[10,\n",
              " 20,\n",
              " 30,\n",
              " 40,\n",
              " 50,\n",
              " 'A',\n",
              " 'B',\n",
              " ' C',\n",
              " 'd',\n",
              " 'F',\n",
              " 1,\n",
              " 1,\n",
              " 1,\n",
              " 1,\n",
              " 1,\n",
              " 1,\n",
              " 1,\n",
              " 11,\n",
              " 1,\n",
              " 1,\n",
              " 11,\n",
              " 1,\n",
              " 1,\n",
              " 1,\n",
              " 8,\n",
              " 8,\n",
              " 1,\n",
              " 1,\n",
              " 1,\n",
              " 1,\n",
              " 1,\n",
              " 1,\n",
              " 1,\n",
              " 11,\n",
              " 1,\n",
              " 1,\n",
              " 11,\n",
              " 1,\n",
              " 1,\n",
              " 1,\n",
              " 8,\n",
              " 8,\n",
              " 1,\n",
              " 1,\n",
              " 1,\n",
              " 1,\n",
              " 1,\n",
              " 1,\n",
              " 1,\n",
              " 11,\n",
              " 1,\n",
              " 1,\n",
              " 11,\n",
              " 1,\n",
              " 1,\n",
              " 1,\n",
              " 8,\n",
              " 8]"
            ]
          },
          "metadata": {},
          "execution_count": 14
        }
      ]
    },
    {
      "cell_type": "markdown",
      "source": [
        "index"
      ],
      "metadata": {
        "id": "sR7kcsDCdVPA"
      }
    },
    {
      "cell_type": "code",
      "execution_count": null,
      "metadata": {
        "colab": {
          "base_uri": "https://localhost:8080/"
        },
        "id": "o3H55h4TdNlx",
        "outputId": "3e96e11f-679b-42c1-cba9-d77a8196b3b2"
      },
      "outputs": [
        {
          "output_type": "execute_result",
          "data": {
            "text/plain": [
              "0"
            ]
          },
          "metadata": {},
          "execution_count": 22
        }
      ],
      "source": [
        "l = [10, 20, 30 , 40, 50, 'A', 10, 'C', 'D', 10, 'F']\n",
        "i1 = l.index(10)\n",
        "i1"
      ]
    },
    {
      "cell_type": "markdown",
      "source": [
        "insert()"
      ],
      "metadata": {
        "id": "DOakEPc8mx5z"
      }
    },
    {
      "cell_type": "code",
      "source": [
        "l.insert(0, 'z')\n",
        "l"
      ],
      "metadata": {
        "colab": {
          "base_uri": "https://localhost:8080/"
        },
        "id": "BwrvHwXEmzXH",
        "outputId": "1c700a5b-cc1d-4e14-f4ae-c0f3c3c44435"
      },
      "execution_count": null,
      "outputs": [
        {
          "output_type": "execute_result",
          "data": {
            "text/plain": [
              "['z', 10, 20, 30, 40, 50, 'A', 10, 'C', 'D', 10, 'F']"
            ]
          },
          "metadata": {},
          "execution_count": 25
        }
      ]
    },
    {
      "cell_type": "markdown",
      "source": [
        "remove()"
      ],
      "metadata": {
        "id": "5Ah1gIijnSpI"
      }
    },
    {
      "cell_type": "code",
      "source": [
        "l.remove('z')\n",
        "l"
      ],
      "metadata": {
        "id": "gtZw69VenUCa",
        "outputId": "082e9198-a044-4590-854a-5f5fb5f3eade",
        "colab": {
          "base_uri": "https://localhost:8080/"
        }
      },
      "execution_count": null,
      "outputs": [
        {
          "output_type": "execute_result",
          "data": {
            "text/plain": [
              "[10, 20, 30, 40, 50, 'A', 10, 'C', 'D', 10, 'F']"
            ]
          },
          "metadata": {},
          "execution_count": 26
        }
      ]
    },
    {
      "cell_type": "code",
      "source": [
        "reversed(l)"
      ],
      "metadata": {
        "colab": {
          "base_uri": "https://localhost:8080/"
        },
        "id": "DlqQwaVQeEJ2",
        "outputId": "5ee26f16-a148-44c7-fa47-fd40a39db0de"
      },
      "execution_count": null,
      "outputs": [
        {
          "output_type": "execute_result",
          "data": {
            "text/plain": [
              "<list_reverseiterator at 0x7e4992ca7910>"
            ]
          },
          "metadata": {},
          "execution_count": 4
        }
      ]
    },
    {
      "cell_type": "code",
      "source": [
        "list(reversed(l))"
      ],
      "metadata": {
        "colab": {
          "base_uri": "https://localhost:8080/"
        },
        "id": "UV9ETpUoelvj",
        "outputId": "3fb711fd-ceba-47c6-8668-563e1479445a"
      },
      "execution_count": null,
      "outputs": [
        {
          "output_type": "execute_result",
          "data": {
            "text/plain": [
              "['F', 10, 'D', 'C', 10, 'A', 50, 40, 30, 20, 10]"
            ]
          },
          "metadata": {},
          "execution_count": 5
        }
      ]
    },
    {
      "cell_type": "code",
      "source": [
        "l.reverse()"
      ],
      "metadata": {
        "id": "pvtgVABmepzJ"
      },
      "execution_count": null,
      "outputs": []
    },
    {
      "cell_type": "code",
      "source": [
        "l"
      ],
      "metadata": {
        "colab": {
          "base_uri": "https://localhost:8080/"
        },
        "id": "VV0-JwWXeteW",
        "outputId": "2196d659-64ee-4e05-fcdd-262c28c54c95"
      },
      "execution_count": null,
      "outputs": [
        {
          "output_type": "execute_result",
          "data": {
            "text/plain": [
              "['F', 10, 'D', 'C', 10, 'A', 50, 40, 30, 20, 10]"
            ]
          },
          "metadata": {},
          "execution_count": 7
        }
      ]
    },
    {
      "cell_type": "markdown",
      "source": [
        "in place-\n",
        "\n",
        "in place indicates the output or solution overrides in same variable/ object. </br>\n",
        "\n",
        "in some methods, they mentioned in place = false. </br>\n",
        "  -in this situation, the output will not override in same object\n",
        "  -then make in_place = True in order to see the output\n",
        "  "
      ],
      "metadata": {
        "id": "FIGNekkjeLAK"
      }
    },
    {
      "cell_type": "code",
      "source": [
        "l2 = [10, 89 , 289, 67, 78, 88, 56, 9]\n",
        "j = sorted(l2, reverse = False)\n",
        "j"
      ],
      "metadata": {
        "colab": {
          "base_uri": "https://localhost:8080/"
        },
        "id": "fhqrx8STfI2X",
        "outputId": "4437516c-342d-4b65-a473-925abb3fd208"
      },
      "execution_count": null,
      "outputs": [
        {
          "output_type": "execute_result",
          "data": {
            "text/plain": [
              "[9, 10, 56, 67, 78, 88, 89, 289]"
            ]
          },
          "metadata": {},
          "execution_count": 14
        }
      ]
    },
    {
      "cell_type": "code",
      "source": [
        "l2  # in_place is not present in sorted method"
      ],
      "metadata": {
        "colab": {
          "base_uri": "https://localhost:8080/"
        },
        "id": "UUeWa_YGfxma",
        "outputId": "f0dc9358-7425-4f89-c25b-6f783ffd0ae6"
      },
      "execution_count": null,
      "outputs": [
        {
          "output_type": "execute_result",
          "data": {
            "text/plain": [
              "[10, 89, 289, 67, 78, 88, 56, 9]"
            ]
          },
          "metadata": {},
          "execution_count": 10
        }
      ]
    },
    {
      "cell_type": "code",
      "source": [
        "l2.sort()\n",
        "l2 #in_place is present in sort() method"
      ],
      "metadata": {
        "colab": {
          "base_uri": "https://localhost:8080/"
        },
        "id": "cLQ8dF5kf3ZS",
        "outputId": "97fc3ac4-a1c0-4136-a723-44998a7a6222"
      },
      "execution_count": null,
      "outputs": [
        {
          "output_type": "execute_result",
          "data": {
            "text/plain": [
              "[9, 10, 56, 67, 78, 88, 89, 289]"
            ]
          },
          "metadata": {},
          "execution_count": 12
        }
      ]
    },
    {
      "cell_type": "markdown",
      "source": [
        "sort vs sorted\n",
        "they both are different because of in_place"
      ],
      "metadata": {
        "id": "OIyTA7trgJfE"
      }
    },
    {
      "cell_type": "markdown",
      "source": [
        "append\n",
        "- append means to add an element at the last of a list\n",
        "- append mainly used to store results in a list\n",
        "- append is used 90% in use-cases"
      ],
      "metadata": {
        "id": "CNk-vZMZgf-a"
      }
    },
    {
      "cell_type": "code",
      "source": [
        "fruits = ['Apple', 'Banana', 'Cherry']"
      ],
      "metadata": {
        "id": "sZFUOYkBgfox"
      },
      "execution_count": null,
      "outputs": []
    },
    {
      "cell_type": "code",
      "source": [
        "fruits.append('Dairy milk')\n",
        "fruits"
      ],
      "metadata": {
        "colab": {
          "base_uri": "https://localhost:8080/"
        },
        "id": "47JTGHYJgPDp",
        "outputId": "732b94cf-64e1-453f-e112-8fefa130ee53"
      },
      "execution_count": null,
      "outputs": [
        {
          "output_type": "execute_result",
          "data": {
            "text/plain": [
              "['Apple', 'Banana', 'Cherry', 'Dairy milk']"
            ]
          },
          "metadata": {},
          "execution_count": 16
        }
      ]
    },
    {
      "cell_type": "code",
      "source": [
        "for i in range(4):\n",
        "  fruits.append(i)\n",
        "fruits"
      ],
      "metadata": {
        "colab": {
          "base_uri": "https://localhost:8080/"
        },
        "id": "W2qP2G-khaVO",
        "outputId": "47a11234-07ac-4947-a8cc-22c6d81f0888"
      },
      "execution_count": null,
      "outputs": [
        {
          "output_type": "execute_result",
          "data": {
            "text/plain": [
              "['Apple', 'Banana', 'Cherry', 'Dairy milk', 0, 1, 2, 3]"
            ]
          },
          "metadata": {},
          "execution_count": 17
        }
      ]
    },
    {
      "cell_type": "markdown",
      "source": [
        "#wap ask the user to get 5 random numbers\n",
        "#print even or odd === save in a list"
      ],
      "metadata": {
        "id": "57a8dyzUirWx"
      }
    },
    {
      "cell_type": "code",
      "source": [
        "import random\n",
        "even =[]\n",
        "odd = []\n",
        "for i in range(5):\n",
        "  num = random.randint(1, 100)\n",
        "  if num % 2 == 0:\n",
        "    even.append(i)\n",
        "  else:\n",
        "    odd.append(i)\n",
        "print(even)\n",
        "print(odd)"
      ],
      "metadata": {
        "colab": {
          "base_uri": "https://localhost:8080/"
        },
        "id": "-gwzVBl5i1KH",
        "outputId": "2295dfe7-da6f-4489-cd3d-3d15781aec01"
      },
      "execution_count": null,
      "outputs": [
        {
          "output_type": "stream",
          "name": "stdout",
          "text": [
            "[2, 3, 4]\n",
            "[0, 1]\n"
          ]
        }
      ]
    },
    {
      "cell_type": "markdown",
      "source": [
        "title"
      ],
      "metadata": {
        "id": "sWUQ-Cx1sHgG"
      }
    },
    {
      "cell_type": "code",
      "source": [
        "input=['hyd','bengaluru','mumbai','chennai']\n",
        "output= []\n",
        "for city in input:\n",
        "  output.append(city.title())\n",
        "output"
      ],
      "metadata": {
        "colab": {
          "base_uri": "https://localhost:8080/"
        },
        "id": "qBZF4tLimqW8",
        "outputId": "7c0a841c-5402-4bc3-fee3-3aeebd1a0627"
      },
      "execution_count": null,
      "outputs": [
        {
          "output_type": "execute_result",
          "data": {
            "text/plain": [
              "['Hyd', 'Bengaluru', 'Mumbai', 'Chennai']"
            ]
          },
          "metadata": {},
          "execution_count": 28
        }
      ]
    },
    {
      "cell_type": "markdown",
      "source": [
        "upper"
      ],
      "metadata": {
        "id": "sNNmUAm5sIg6"
      }
    },
    {
      "cell_type": "code",
      "source": [
        "input=['hyd','bengaluru','mumbai','chennai']\n",
        "output= []\n",
        "for city in input:\n",
        "  output.append(city.upper())\n",
        "output"
      ],
      "metadata": {
        "colab": {
          "base_uri": "https://localhost:8080/"
        },
        "id": "NjY9Q10XnD6g",
        "outputId": "6aee6083-f235-4761-8791-2fb08ba8e3ce"
      },
      "execution_count": null,
      "outputs": [
        {
          "output_type": "execute_result",
          "data": {
            "text/plain": [
              "['HYD', 'BENGALURU', 'MUMBAI', 'CHENNAI']"
            ]
          },
          "metadata": {},
          "execution_count": 29
        }
      ]
    },
    {
      "cell_type": "markdown",
      "source": [
        "#Question 3\n",
        "input=['hyd','bengaluru','mum#bai','chen#nai'] </br>\n",
        "output=['mum#bai','chen#nai']"
      ],
      "metadata": {
        "id": "eoe9-NtXnMRl"
      }
    },
    {
      "cell_type": "code",
      "source": [
        "input=['hyd','bengaluru','mum#bai','chen#nai']\n",
        "output = input[2:4]\n",
        "output"
      ],
      "metadata": {
        "colab": {
          "base_uri": "https://localhost:8080/"
        },
        "id": "abUiBaI2nOox",
        "outputId": "267e918e-e024-46ed-d428-d17e3a52c9c6"
      },
      "execution_count": null,
      "outputs": [
        {
          "output_type": "execute_result",
          "data": {
            "text/plain": [
              "['mum#bai', 'chen#nai']"
            ]
          },
          "metadata": {},
          "execution_count": 30
        }
      ]
    },
    {
      "cell_type": "markdown",
      "source": [
        "#Question 4\n",
        "Q4) input=['hyd','bengaluru','mum#bai','chen#nai'] </br>\n",
        "output=['hyd','bengaluru']"
      ],
      "metadata": {
        "id": "lHebl10HngS3"
      }
    },
    {
      "cell_type": "code",
      "source": [
        "input=['hyd','bengaluru','mum#bai','chen#nai']\n",
        "output = input[:2]\n",
        "output"
      ],
      "metadata": {
        "colab": {
          "base_uri": "https://localhost:8080/"
        },
        "id": "Dj5kDm1TnizL",
        "outputId": "f35bc044-7cfd-420d-96ad-16e73b2d216c"
      },
      "execution_count": null,
      "outputs": [
        {
          "output_type": "execute_result",
          "data": {
            "text/plain": [
              "['hyd', 'bengaluru']"
            ]
          },
          "metadata": {},
          "execution_count": 31
        }
      ]
    },
    {
      "cell_type": "markdown",
      "source": [
        "#Question 5\n",
        "input=['hyd','bengaluru','mumbai','chennai'] </br>\n",
        "multiply all indexes by 10"
      ],
      "metadata": {
        "id": "W12UX4Rpnvev"
      }
    },
    {
      "cell_type": "code",
      "source": [
        "input=['hyd','bengaluru','mumbai','chennai']\n",
        "for i in range(len(input)):\n",
        "  print(i * 10)"
      ],
      "metadata": {
        "colab": {
          "base_uri": "https://localhost:8080/"
        },
        "id": "wQ4eIohan1YZ",
        "outputId": "f9b1007c-a2fc-4e66-be44-7d0fab622032"
      },
      "execution_count": null,
      "outputs": [
        {
          "output_type": "stream",
          "name": "stdout",
          "text": [
            "0\n",
            "10\n",
            "20\n",
            "30\n"
          ]
        }
      ]
    },
    {
      "cell_type": "markdown",
      "source": [
        "# Question 6\n",
        "input=['hyd','bengaluru','mumbai','chennai'] </br>\n",
        "sum of all indexes"
      ],
      "metadata": {
        "id": "HaXiUVxloGvs"
      }
    },
    {
      "cell_type": "code",
      "source": [
        "input=['hyd','bengaluru','mumbai','chennai']\n",
        "sum = 0\n",
        "for i in range(len(input)):\n",
        "  sum += i\n",
        "sum"
      ],
      "metadata": {
        "colab": {
          "base_uri": "https://localhost:8080/"
        },
        "id": "Z47g1FVaoLNr",
        "outputId": "a354ec4e-491b-4851-ed1b-47fd2dbdadfe"
      },
      "execution_count": null,
      "outputs": [
        {
          "output_type": "execute_result",
          "data": {
            "text/plain": [
              "6"
            ]
          },
          "metadata": {},
          "execution_count": 33
        }
      ]
    },
    {
      "cell_type": "markdown",
      "source": [
        "#Question 7\n",
        "Sum of first 10 Natural numbers"
      ],
      "metadata": {
        "id": "BsoUe1ymoGp9"
      }
    },
    {
      "cell_type": "code",
      "source": [
        "sum = 0\n",
        "for i in range(11):\n",
        "  sum += i\n",
        "sum"
      ],
      "metadata": {
        "colab": {
          "base_uri": "https://localhost:8080/"
        },
        "id": "N024XIfkol9G",
        "outputId": "86da5a2e-f9c3-45c4-b619-f89cfbdc2f68"
      },
      "execution_count": null,
      "outputs": [
        {
          "output_type": "execute_result",
          "data": {
            "text/plain": [
              "55"
            ]
          },
          "metadata": {},
          "execution_count": 1
        }
      ]
    }
  ]
}