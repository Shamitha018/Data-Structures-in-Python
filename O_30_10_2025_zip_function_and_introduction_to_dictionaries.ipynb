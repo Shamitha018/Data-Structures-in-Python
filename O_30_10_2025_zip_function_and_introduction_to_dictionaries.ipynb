{
  "nbformat": 4,
  "nbformat_minor": 0,
  "metadata": {
    "colab": {
      "provenance": [],
      "authorship_tag": "ABX9TyP+lJ5XdlQ9XEpvpSoWRM+/",
      "include_colab_link": true
    },
    "kernelspec": {
      "name": "python3",
      "display_name": "Python 3"
    },
    "language_info": {
      "name": "python"
    }
  },
  "cells": [
    {
      "cell_type": "markdown",
      "metadata": {
        "id": "view-in-github",
        "colab_type": "text"
      },
      "source": [
        "<a href=\"https://colab.research.google.com/github/Shamitha018/Data-Structures-in-Python/blob/main/O_30_10_2025_zip_function_and_introduction_to_dictionaries.ipynb\" target=\"_parent\"><img src=\"https://colab.research.google.com/assets/colab-badge.svg\" alt=\"Open In Colab\"/></a>"
      ]
    },
    {
      "cell_type": "markdown",
      "source": [
        "Keep calm and trust omkar sir class"
      ],
      "metadata": {
        "id": "5NRH9erMUPAr"
      }
    },
    {
      "cell_type": "markdown",
      "source": [
        "zip"
      ],
      "metadata": {
        "id": "nDRlE-PGSA8Q"
      }
    },
    {
      "cell_type": "code",
      "source": [
        "names = ['ram', 'suresh', 'mahesh']\n",
        "age = [20, 22, 24, 18]"
      ],
      "metadata": {
        "id": "TJIVp4T4SEAu"
      },
      "execution_count": 5,
      "outputs": []
    },
    {
      "cell_type": "code",
      "execution_count": 6,
      "metadata": {
        "colab": {
          "base_uri": "https://localhost:8080/"
        },
        "id": "geTsU9hKR9jB",
        "outputId": "cf9c8843-f56d-4c54-8dc1-4b6ca3455a7e"
      },
      "outputs": [
        {
          "output_type": "execute_result",
          "data": {
            "text/plain": [
              "(['ram', 'suresh', 'mahesh'], [20, 22, 24, 18])"
            ]
          },
          "metadata": {},
          "execution_count": 6
        }
      ],
      "source": [
        "names, age"
      ]
    },
    {
      "cell_type": "code",
      "source": [
        "zip(names, age)"
      ],
      "metadata": {
        "colab": {
          "base_uri": "https://localhost:8080/"
        },
        "id": "oI_Kwn4OSNjH",
        "outputId": "bce0c81b-c085-471e-e510-1841259f7633"
      },
      "execution_count": 7,
      "outputs": [
        {
          "output_type": "execute_result",
          "data": {
            "text/plain": [
              "<zip at 0x789bc02aa880>"
            ]
          },
          "metadata": {},
          "execution_count": 7
        }
      ]
    },
    {
      "cell_type": "code",
      "source": [
        "list(zip(names, age)) #if lists have same length then all are mapped, else extra element is missed"
      ],
      "metadata": {
        "colab": {
          "base_uri": "https://localhost:8080/"
        },
        "id": "Pq5ZZTW7SQOc",
        "outputId": "be12c1f0-6beb-42d3-e9c5-0fea30f80a75"
      },
      "execution_count": 8,
      "outputs": [
        {
          "output_type": "execute_result",
          "data": {
            "text/plain": [
              "[('ram', 20), ('suresh', 22), ('mahesh', 24)]"
            ]
          },
          "metadata": {},
          "execution_count": 8
        }
      ]
    },
    {
      "cell_type": "code",
      "source": [
        "for i, j in zip(names, age):\n",
        "  print(i,j)"
      ],
      "metadata": {
        "colab": {
          "base_uri": "https://localhost:8080/"
        },
        "id": "HXtBk1htTL9_",
        "outputId": "6aa981a7-dca9-41fd-989c-122797f2cdaa"
      },
      "execution_count": 10,
      "outputs": [
        {
          "output_type": "stream",
          "name": "stdout",
          "text": [
            "ram 20\n",
            "suresh 22\n",
            "mahesh 24\n"
          ]
        }
      ]
    },
    {
      "cell_type": "code",
      "source": [
        "for i,j in zip(names, age):\n",
        "  print(f'{i} age is {j}')"
      ],
      "metadata": {
        "colab": {
          "base_uri": "https://localhost:8080/"
        },
        "id": "AqIWmodySfh-",
        "outputId": "f95e437e-0eae-41fc-e802-793975c25cfb"
      },
      "execution_count": 9,
      "outputs": [
        {
          "output_type": "stream",
          "name": "stdout",
          "text": [
            "ram age is 20\n",
            "suresh age is 22\n",
            "mahesh age is 24\n"
          ]
        }
      ]
    },
    {
      "cell_type": "code",
      "source": [
        "l1 = [10, 20, 30]\n",
        "l2= ['A', 'B']\n",
        "for i,j in zip(l1,l2):\n",
        "  print(f'{j} value is {i}') #30 is left out, hence zips are useful for same length lists"
      ],
      "metadata": {
        "colab": {
          "base_uri": "https://localhost:8080/"
        },
        "id": "6LO-RUKRTpVt",
        "outputId": "3ac1f65c-02f0-4f4a-9fdd-430dcc828572"
      },
      "execution_count": 11,
      "outputs": [
        {
          "output_type": "stream",
          "name": "stdout",
          "text": [
            "A value is 10\n",
            "B value is 20\n"
          ]
        }
      ]
    },
    {
      "cell_type": "code",
      "source": [
        "l1 = [10, 20, 30, 40]\n",
        "l2= [1,2,3,4,5]\n",
        "l = []\n",
        "if len(l1)>len(l2):\n",
        "  for i in range(len(l1)):\n",
        "    if i < len(l2):\n",
        "      l.append(l1[i]+l2[i])\n",
        "    else:\n",
        "      l.append(l1[i])\n",
        "else:\n",
        "  for i in range(len(l2)):\n",
        "    if i<len(l1):\n",
        "      l.append(l1[i]+l2[i])\n",
        "    else:\n",
        "      l.append(l2[i])\n",
        "l"
      ],
      "metadata": {
        "colab": {
          "base_uri": "https://localhost:8080/"
        },
        "id": "U6J_KVBUUbia",
        "outputId": "48cb6d5c-4090-4771-a399-8c0cc5d68500"
      },
      "execution_count": 19,
      "outputs": [
        {
          "output_type": "execute_result",
          "data": {
            "text/plain": [
              "[11, 22, 33, 44, 5]"
            ]
          },
          "metadata": {},
          "execution_count": 19
        }
      ]
    },
    {
      "cell_type": "markdown",
      "source": [
        "zip gave idea to store values in dictionary"
      ],
      "metadata": {
        "id": "PipTV6nAblHl"
      }
    },
    {
      "cell_type": "markdown",
      "source": [
        "duplicate,"
      ],
      "metadata": {
        "id": "IHtfZA_6bsz-"
      }
    },
    {
      "cell_type": "code",
      "source": [
        "d = {'Ramesh': 20, 'Suresh':22, 'Mahesh': 24}\n",
        "d"
      ],
      "metadata": {
        "colab": {
          "base_uri": "https://localhost:8080/"
        },
        "id": "sRS6Oss_bquz",
        "outputId": "eeb53de4-c6ca-41ab-c767-d26ca391b449"
      },
      "execution_count": 20,
      "outputs": [
        {
          "output_type": "execute_result",
          "data": {
            "text/plain": [
              "{'Ramesh': 20, 'Suresh': 22, 'Mahesh': 24}"
            ]
          },
          "metadata": {},
          "execution_count": 20
        }
      ]
    },
    {
      "cell_type": "code",
      "source": [
        "d1 = {20: 'Ramesh', 22: 'Suresh', 24: 'Mahesh'}\n",
        "d1"
      ],
      "metadata": {
        "colab": {
          "base_uri": "https://localhost:8080/"
        },
        "id": "cUQYFGjcb4xU",
        "outputId": "e30bcf91-f297-487b-98b8-29fdcf49888e"
      },
      "execution_count": 21,
      "outputs": [
        {
          "output_type": "execute_result",
          "data": {
            "text/plain": [
              "{20: 'Ramesh', 22: 'Suresh', 24: 'Mahesh'}"
            ]
          },
          "metadata": {},
          "execution_count": 21
        }
      ]
    },
    {
      "cell_type": "markdown",
      "source": [
        "int key in dictionaries"
      ],
      "metadata": {
        "id": "7mVCHbY4cwmw"
      }
    },
    {
      "cell_type": "code",
      "source": [
        "d2_int_int = {20:1, 22:2, 24:3}\n",
        "print(d2_int_int)\n",
        "d2_int_float = {20:1.2, 22:2.222, 24:3.23}\n",
        "print(d2_int_float)\n",
        "d2_int_bool = {20:True, 22:False, 24:True}\n",
        "print(d2_int_bool)\n",
        "d2_int_str = {20: 'Ramesh', 22: 'Suresh', 24: 'Mahesh'}\n",
        "print(d2_int_str)\n"
      ],
      "metadata": {
        "colab": {
          "base_uri": "https://localhost:8080/"
        },
        "id": "5ImS_Lp3cC3G",
        "outputId": "5f568ddf-9492-42d5-9637-d22d8394fee3"
      },
      "execution_count": 23,
      "outputs": [
        {
          "output_type": "stream",
          "name": "stdout",
          "text": [
            "{20: 1, 22: 2, 24: 3}\n",
            "{20: 1.2, 22: 2.222, 24: 3.23}\n",
            "{20: True, 22: False, 24: True}\n",
            "{20: 'Ramesh', 22: 'Suresh', 24: 'Mahesh'}\n"
          ]
        }
      ]
    },
    {
      "cell_type": "markdown",
      "source": [
        "float key"
      ],
      "metadata": {
        "id": "SlA5Ah06ctoL"
      }
    },
    {
      "cell_type": "code",
      "source": [
        "d2_float_int = {20.1:1, 22.2:2, 24.222:3}\n",
        "print(d2_float_int)\n",
        "d2_float_float = {20.2:1.2, 22.2:2.222, 24.22:3.23}\n",
        "print(d2_float_float)\n",
        "d2_int_bool = {20.2:True, 22.2:False, 24.2:True}\n",
        "print(d2_int_bool)\n",
        "d2_int_str = {20.2: 'Ramesh', 22.2: 'Suresh', 24.2: 'Mahesh'}\n",
        "print(d2_int_str)"
      ],
      "metadata": {
        "colab": {
          "base_uri": "https://localhost:8080/"
        },
        "id": "fCNojI_lczJc",
        "outputId": "023afec4-6a24-4597-dc5f-a45bd86d8405"
      },
      "execution_count": 24,
      "outputs": [
        {
          "output_type": "stream",
          "name": "stdout",
          "text": [
            "{20.1: 1, 22.2: 2, 24.222: 3}\n",
            "{20.2: 1.2, 22.2: 2.222, 24.22: 3.23}\n",
            "{20.2: True, 22.2: False, 24.2: True}\n",
            "{20.2: 'Ramesh', 22.2: 'Suresh', 24.2: 'Mahesh'}\n"
          ]
        }
      ]
    },
    {
      "cell_type": "markdown",
      "source": [
        "duplicate keys in dictionary: latest value will be considered"
      ],
      "metadata": {
        "id": "gPhyrjPcdi3A"
      }
    },
    {
      "cell_type": "code",
      "source": [
        "dict1 = {'RAMESH' : 20, 'RAMESH': 22}\n",
        "dict1"
      ],
      "metadata": {
        "colab": {
          "base_uri": "https://localhost:8080/"
        },
        "id": "4xCAxzRZdnp5",
        "outputId": "361d30b6-6aaf-4c29-d072-90ce8ba88527"
      },
      "execution_count": 25,
      "outputs": [
        {
          "output_type": "execute_result",
          "data": {
            "text/plain": [
              "{'RAMESH': 22}"
            ]
          },
          "metadata": {},
          "execution_count": 25
        }
      ]
    },
    {
      "cell_type": "markdown",
      "source": [
        "same key and value- duplicate key and value - duplicates are not allowed only 1 orginal copy will be stored in dictionary"
      ],
      "metadata": {
        "id": "7lhGu-RtdzFJ"
      }
    },
    {
      "cell_type": "code",
      "source": [
        "dict2 = {'RAMESH' : 20, 'RAMESH': 20}\n",
        "dict2"
      ],
      "metadata": {
        "colab": {
          "base_uri": "https://localhost:8080/"
        },
        "id": "zQ9xHIk1dvrP",
        "outputId": "14381b7b-1645-4dbd-9e88-63673365ec7b"
      },
      "execution_count": 27,
      "outputs": [
        {
          "output_type": "execute_result",
          "data": {
            "text/plain": [
              "{'RAMESH': 20}"
            ]
          },
          "metadata": {},
          "execution_count": 27
        }
      ]
    },
    {
      "cell_type": "code",
      "source": [
        "dict3 = {'Suresh': 20, 'Ram': 20}\n",
        "dict3"
      ],
      "metadata": {
        "colab": {
          "base_uri": "https://localhost:8080/"
        },
        "id": "yNLiG52teCqy",
        "outputId": "c715a459-57ea-4a7b-d504-2f0b43034acc"
      },
      "execution_count": 28,
      "outputs": [
        {
          "output_type": "execute_result",
          "data": {
            "text/plain": [
              "{'Suresh': 20, 'Ram': 20}"
            ]
          },
          "metadata": {},
          "execution_count": 28
        }
      ]
    },
    {
      "cell_type": "markdown",
      "source": [
        "heterogenous values in dictionary"
      ],
      "metadata": {
        "id": "EqfTk3TWeiIz"
      }
    },
    {
      "cell_type": "code",
      "source": [
        "dict4 = {1:1, 2: 'Suresh', 'Suresh': False, False: True}\n",
        "dict4"
      ],
      "metadata": {
        "colab": {
          "base_uri": "https://localhost:8080/"
        },
        "id": "0hQq4K1felP8",
        "outputId": "a7e56bff-ec0e-46eb-81cc-31a80ee39da8"
      },
      "execution_count": 32,
      "outputs": [
        {
          "output_type": "execute_result",
          "data": {
            "text/plain": [
              "{1: 1, 2: 'Suresh', 'Suresh': False, False: True}"
            ]
          },
          "metadata": {},
          "execution_count": 32
        }
      ]
    },
    {
      "cell_type": "markdown",
      "source": [
        "list in dictionary as value"
      ],
      "metadata": {
        "id": "_2czJniYfEnH"
      }
    },
    {
      "cell_type": "code",
      "source": [
        "dict5 = {'Names': ['RAM', 'SURESH', 'RAMESH']}\n",
        "dict5"
      ],
      "metadata": {
        "colab": {
          "base_uri": "https://localhost:8080/"
        },
        "id": "blmj8yOVfGXK",
        "outputId": "75bc4b5a-3343-428d-9fe9-d292e6f29be4"
      },
      "execution_count": 33,
      "outputs": [
        {
          "output_type": "execute_result",
          "data": {
            "text/plain": [
              "{'Names': ['RAM', 'SURESH', 'RAMESH']}"
            ]
          },
          "metadata": {},
          "execution_count": 33
        }
      ]
    },
    {
      "cell_type": "markdown",
      "source": [
        "list as key in dictionary"
      ],
      "metadata": {
        "id": "ffFYqQssfU1H"
      }
    },
    {
      "cell_type": "code",
      "source": [
        "dict6 = {['j', 'a', 'l']: [1,2,3]}\n",
        "dict6 #list is mutable and unhashable"
      ],
      "metadata": {
        "colab": {
          "base_uri": "https://localhost:8080/",
          "height": 158
        },
        "id": "Un0xEOKUfUii",
        "outputId": "2494a83b-63cd-4e8c-f29a-04732af24fdf"
      },
      "execution_count": 34,
      "outputs": [
        {
          "output_type": "error",
          "ename": "TypeError",
          "evalue": "unhashable type: 'list'",
          "traceback": [
            "\u001b[0;31m---------------------------------------------------------------------------\u001b[0m",
            "\u001b[0;31mTypeError\u001b[0m                                 Traceback (most recent call last)",
            "\u001b[0;32m/tmp/ipython-input-1878072781.py\u001b[0m in \u001b[0;36m<cell line: 0>\u001b[0;34m()\u001b[0m\n\u001b[0;32m----> 1\u001b[0;31m \u001b[0mdict6\u001b[0m \u001b[0;34m=\u001b[0m \u001b[0;34m{\u001b[0m\u001b[0;34m[\u001b[0m\u001b[0;34m'j'\u001b[0m\u001b[0;34m,\u001b[0m \u001b[0;34m'a'\u001b[0m\u001b[0;34m,\u001b[0m \u001b[0;34m'l'\u001b[0m\u001b[0;34m]\u001b[0m\u001b[0;34m:\u001b[0m \u001b[0;34m[\u001b[0m\u001b[0;36m1\u001b[0m\u001b[0;34m,\u001b[0m\u001b[0;36m2\u001b[0m\u001b[0;34m,\u001b[0m\u001b[0;36m3\u001b[0m\u001b[0;34m]\u001b[0m\u001b[0;34m}\u001b[0m\u001b[0;34m\u001b[0m\u001b[0;34m\u001b[0m\u001b[0m\n\u001b[0m\u001b[1;32m      2\u001b[0m \u001b[0mdict6\u001b[0m\u001b[0;34m\u001b[0m\u001b[0;34m\u001b[0m\u001b[0m\n",
            "\u001b[0;31mTypeError\u001b[0m: unhashable type: 'list'"
          ]
        }
      ]
    },
    {
      "cell_type": "code",
      "source": [
        "dict6 = {('j', 'a', 'l'): [1,2,3]}\n",
        "dict6 #tuple is immutable and hashable"
      ],
      "metadata": {
        "colab": {
          "base_uri": "https://localhost:8080/"
        },
        "id": "SibUKRZmfw3y",
        "outputId": "512eeda6-93c3-4292-e08c-4fe0791c17d0"
      },
      "execution_count": 37,
      "outputs": [
        {
          "output_type": "execute_result",
          "data": {
            "text/plain": [
              "{('j', 'a', 'l'): [1, 2, 3]}"
            ]
          },
          "metadata": {},
          "execution_count": 37
        }
      ]
    }
  ]
}