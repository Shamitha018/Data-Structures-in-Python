{
  "nbformat": 4,
  "nbformat_minor": 0,
  "metadata": {
    "colab": {
      "provenance": [],
      "authorship_tag": "ABX9TyMWpK2hCDFwdwUMx+fYgLNW",
      "include_colab_link": true
    },
    "kernelspec": {
      "name": "python3",
      "display_name": "Python 3"
    },
    "language_info": {
      "name": "python"
    }
  },
  "cells": [
    {
      "cell_type": "markdown",
      "metadata": {
        "id": "view-in-github",
        "colab_type": "text"
      },
      "source": [
        "<a href=\"https://colab.research.google.com/github/Shamitha018/Data-Structures-in-Python/blob/lists/O_28_10_2025_List_comprehension.ipynb\" target=\"_parent\"><img src=\"https://colab.research.google.com/assets/colab-badge.svg\" alt=\"Open In Colab\"/></a>"
      ]
    },
    {
      "cell_type": "code",
      "execution_count": 1,
      "metadata": {
        "colab": {
          "base_uri": "https://localhost:8080/"
        },
        "id": "01cN8dXkKFgC",
        "outputId": "3062da56-b7fe-4a77-e7e2-54712f56e802"
      },
      "outputs": [
        {
          "output_type": "execute_result",
          "data": {
            "text/plain": [
              "['C', 'B', 'A']"
            ]
          },
          "metadata": {},
          "execution_count": 1
        }
      ],
      "source": [
        "Input = [50, 60, 90]\n",
        "['A' if i>= 90\\\n",
        " else 'B' if i >= 60 \\\n",
        " else 'C'\\\n",
        " for i in Input]"
      ]
    },
    {
      "cell_type": "markdown",
      "source": [
        "#[<out> <for loop>]\n",
        "#[<out> <for loop> <if>]"
      ],
      "metadata": {
        "id": "vsvvNSY-LaoW"
      }
    },
    {
      "cell_type": "code",
      "source": [
        "[sum+i for i in range(11)]\n"
      ],
      "metadata": {
        "colab": {
          "base_uri": "https://localhost:8080/"
        },
        "id": "f5OPLat1MHk1",
        "outputId": "6210cf16-8606-433b-e673-1d4bdd5bda05"
      },
      "execution_count": 6,
      "outputs": [
        {
          "output_type": "execute_result",
          "data": {
            "text/plain": [
              "[0, 1, 2, 3, 4, 5, 6, 7, 8, 9, 10]"
            ]
          },
          "metadata": {},
          "execution_count": 6
        }
      ]
    },
    {
      "cell_type": "markdown",
      "source": [
        "valrus operator"
      ],
      "metadata": {
        "id": "PldXx4vaNVHn"
      }
    },
    {
      "cell_type": "code",
      "source": [
        "[sum := sum+i for i in range(11)][-1]"
      ],
      "metadata": {
        "colab": {
          "base_uri": "https://localhost:8080/"
        },
        "id": "7T7qsLMyNXdj",
        "outputId": "d4a7274b-7e42-409f-89e6-b750a2d3bd1e"
      },
      "execution_count": 8,
      "outputs": [
        {
          "output_type": "execute_result",
          "data": {
            "text/plain": [
              "110"
            ]
          },
          "metadata": {},
          "execution_count": 8
        }
      ]
    },
    {
      "cell_type": "markdown",
      "source": [
        "marks = [45, 76, 89, 53, 67, 90, 82, 49, 33, 99]\n",
        "filter students who passed (marks > = 50)\n"
      ],
      "metadata": {
        "id": "6iFUYZ2eOExP"
      }
    },
    {
      "cell_type": "code",
      "source": [
        "marks = [45, 76, 89, 53, 67, 90, 82, 49, 33, 99]\n",
        "passed= [marks[m] for m in range(len(marks)) if marks[m] >= 50]\n",
        "passed"
      ],
      "metadata": {
        "colab": {
          "base_uri": "https://localhost:8080/"
        },
        "id": "ZkSrUXTgOVnb",
        "outputId": "29532805-1ec4-408c-e1b8-86af1871511e"
      },
      "execution_count": 13,
      "outputs": [
        {
          "output_type": "execute_result",
          "data": {
            "text/plain": [
              "[76, 89, 53, 67, 90, 82, 99]"
            ]
          },
          "metadata": {},
          "execution_count": 13
        }
      ]
    },
    {
      "cell_type": "markdown",
      "source": [
        "calculate grades of all students (a:85+, b:70-84, c:50-69, f:<50)"
      ],
      "metadata": {
        "id": "fFmAOzquOzm5"
      }
    },
    {
      "cell_type": "code",
      "source": [
        "grades = ['A' if m > 85 \\\n",
        "          else 'B' if m in range(70,85) \\\n",
        "          else 'C' if m in range(50, 70) \\\n",
        "          else 'F' \\\n",
        "          for m in marks]\n",
        "grades"
      ],
      "metadata": {
        "colab": {
          "base_uri": "https://localhost:8080/"
        },
        "id": "dFBXOPwfO-sg",
        "outputId": "c92ed342-641c-4f1c-84b3-3b1082fd2ace"
      },
      "execution_count": 17,
      "outputs": [
        {
          "output_type": "execute_result",
          "data": {
            "text/plain": [
              "['F', 'B', 'A', 'C', 'C', 'A', 'B', 'F', 'F', 'A']"
            ]
          },
          "metadata": {},
          "execution_count": 17
        }
      ]
    },
    {
      "cell_type": "code",
      "source": [
        "grace = [m+5 if m<50 \\\n",
        "         else m \\\n",
        "         for m in marks ]\n",
        "marks, grace"
      ],
      "metadata": {
        "colab": {
          "base_uri": "https://localhost:8080/"
        },
        "id": "A5Jbj8fNP3eP",
        "outputId": "fa172e5e-c350-49d0-9a65-53efa63b701c"
      },
      "execution_count": 22,
      "outputs": [
        {
          "output_type": "execute_result",
          "data": {
            "text/plain": [
              "([45, 76, 89, 53, 67, 90, 82, 49, 33, 99],\n",
              " [50, 76, 89, 53, 67, 90, 82, 54, 38, 99])"
            ]
          },
          "metadata": {},
          "execution_count": 22
        }
      ]
    },
    {
      "cell_type": "markdown",
      "source": [
        "top 3 scorers"
      ],
      "metadata": {
        "id": "Y3PR4JRhRLSU"
      }
    },
    {
      "cell_type": "code",
      "source": [
        "print(max(marks))"
      ],
      "metadata": {
        "colab": {
          "base_uri": "https://localhost:8080/"
        },
        "id": "2bE_VOdjRNLV",
        "outputId": "b93b03f2-486e-4b65-bff7-2dde061a6f0e"
      },
      "execution_count": 25,
      "outputs": [
        {
          "output_type": "stream",
          "name": "stdout",
          "text": [
            "99\n"
          ]
        }
      ]
    }
  ]
}