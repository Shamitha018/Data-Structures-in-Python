{
  "nbformat": 4,
  "nbformat_minor": 0,
  "metadata": {
    "colab": {
      "provenance": [],
      "authorship_tag": "ABX9TyN3pVPsTGnB3YapP43z9RjL",
      "include_colab_link": true
    },
    "kernelspec": {
      "name": "python3",
      "display_name": "Python 3"
    },
    "language_info": {
      "name": "python"
    }
  },
  "cells": [
    {
      "cell_type": "markdown",
      "metadata": {
        "id": "view-in-github",
        "colab_type": "text"
      },
      "source": [
        "<a href=\"https://colab.research.google.com/github/Shamitha018/Data-Structures-in-Python/blob/main/O_31_10_2025_dictionaries_basic.ipynb\" target=\"_parent\"><img src=\"https://colab.research.google.com/assets/colab-badge.svg\" alt=\"Open In Colab\"/></a>"
      ]
    },
    {
      "cell_type": "markdown",
      "source": [
        "Min , max, sum, reversed, sorted -"
      ],
      "metadata": {
        "id": "TMSNW4l-dpRM"
      }
    },
    {
      "cell_type": "code",
      "source": [
        "min(dict1), max(dict1)"
      ],
      "metadata": {
        "colab": {
          "base_uri": "https://localhost:8080/"
        },
        "id": "hqe4zOk5tlHO",
        "outputId": "270911eb-283e-447d-d989-556e5f27d5be"
      },
      "execution_count": 31,
      "outputs": [
        {
          "output_type": "execute_result",
          "data": {
            "text/plain": [
              "(20, 24)"
            ]
          },
          "metadata": {},
          "execution_count": 31
        }
      ]
    },
    {
      "cell_type": "code",
      "source": [
        "dict2 = {'Ramesh': 20, 'Suresh': 22, 'Mahesh':24}\n",
        "min(dict2), max(dict2) #based on lexical order ==> LIFO"
      ],
      "metadata": {
        "colab": {
          "base_uri": "https://localhost:8080/"
        },
        "id": "t5WK0DoFtogD",
        "outputId": "abfc5b2d-249c-4408-8d68-2d79385171b7"
      },
      "execution_count": 34,
      "outputs": [
        {
          "output_type": "execute_result",
          "data": {
            "text/plain": [
              "('Mahesh', 'Suresh')"
            ]
          },
          "metadata": {},
          "execution_count": 34
        }
      ]
    },
    {
      "cell_type": "code",
      "execution_count": 3,
      "metadata": {
        "colab": {
          "base_uri": "https://localhost:8080/"
        },
        "id": "Qy3TanlQdkzJ",
        "outputId": "47482d3e-3c2e-4589-f492-99d42ac33a80"
      },
      "outputs": [
        {
          "output_type": "execute_result",
          "data": {
            "text/plain": [
              "[24, 22, 20]"
            ]
          },
          "metadata": {},
          "execution_count": 3
        }
      ],
      "source": [
        "dict1 = {20:'ramesh', 22:'Suresh', 24: 'Mahesh'}\n",
        "list(reversed(dict1))"
      ]
    },
    {
      "cell_type": "code",
      "source": [
        "dict2 = {'Ramesh': 20, 'Suresh': 22, 'Mahesh':24}\n",
        "list(reversed(dict2)) #reversed works based on order of keys===> 0,1,2 to 2,1,0"
      ],
      "metadata": {
        "colab": {
          "base_uri": "https://localhost:8080/"
        },
        "id": "UugKBlaQemLX",
        "outputId": "2a68f0c9-1c1d-46f9-d8c1-6fb5e44c47b1"
      },
      "execution_count": 4,
      "outputs": [
        {
          "output_type": "execute_result",
          "data": {
            "text/plain": [
              "['Mahesh', 'Suresh', 'Ramesh']"
            ]
          },
          "metadata": {},
          "execution_count": 4
        }
      ]
    },
    {
      "cell_type": "code",
      "source": [
        "dict2[0]"
      ],
      "metadata": {
        "colab": {
          "base_uri": "https://localhost:8080/",
          "height": 141
        },
        "id": "f8nzX8DviK_a",
        "outputId": "ac0b68a7-34fb-4715-9a10-44ae3ccff880"
      },
      "execution_count": 5,
      "outputs": [
        {
          "output_type": "error",
          "ename": "KeyError",
          "evalue": "0",
          "traceback": [
            "\u001b[0;31m---------------------------------------------------------------------------\u001b[0m",
            "\u001b[0;31mKeyError\u001b[0m                                  Traceback (most recent call last)",
            "\u001b[0;32m/tmp/ipython-input-3369664988.py\u001b[0m in \u001b[0;36m<cell line: 0>\u001b[0;34m()\u001b[0m\n\u001b[0;32m----> 1\u001b[0;31m \u001b[0mdict2\u001b[0m\u001b[0;34m[\u001b[0m\u001b[0;36m0\u001b[0m\u001b[0;34m]\u001b[0m\u001b[0;34m\u001b[0m\u001b[0;34m\u001b[0m\u001b[0m\n\u001b[0m",
            "\u001b[0;31mKeyError\u001b[0m: 0"
          ]
        }
      ]
    },
    {
      "cell_type": "code",
      "source": [
        "'ramesh':20"
      ],
      "metadata": {
        "colab": {
          "base_uri": "https://localhost:8080/",
          "height": 106
        },
        "id": "K3SKmz3ziOjx",
        "outputId": "2f6cab19-c970-48e6-e0f9-750f4d073842"
      },
      "execution_count": 6,
      "outputs": [
        {
          "output_type": "error",
          "ename": "SyntaxError",
          "evalue": "illegal target for annotation (ipython-input-1701120956.py, line 1)",
          "traceback": [
            "\u001b[0;36m  File \u001b[0;32m\"/tmp/ipython-input-1701120956.py\"\u001b[0;36m, line \u001b[0;32m1\u001b[0m\n\u001b[0;31m    'ramesh':20\u001b[0m\n\u001b[0m    ^\u001b[0m\n\u001b[0;31mSyntaxError\u001b[0m\u001b[0;31m:\u001b[0m illegal target for annotation\n"
          ]
        }
      ]
    },
    {
      "cell_type": "code",
      "source": [
        "#we can extract only value by using key\n",
        "dict2['Ramesh']"
      ],
      "metadata": {
        "colab": {
          "base_uri": "https://localhost:8080/"
        },
        "id": "Ymkn1HxjiRDq",
        "outputId": "dc5c710e-36d2-49ad-a457-34ab68a0345c"
      },
      "execution_count": 9,
      "outputs": [
        {
          "output_type": "execute_result",
          "data": {
            "text/plain": [
              "20"
            ]
          },
          "metadata": {},
          "execution_count": 9
        }
      ]
    },
    {
      "cell_type": "code",
      "source": [
        "dict2 = {'Ramesh': 20, 'Suresh': 22, 'Mahesh':24}\n",
        "for i in dict2:\n",
        ""
      ],
      "metadata": {
        "id": "UvmyyXFviXkt"
      },
      "execution_count": null,
      "outputs": []
    },
    {
      "cell_type": "code",
      "source": [],
      "metadata": {
        "id": "GoJ3F5xRnqn7"
      },
      "execution_count": null,
      "outputs": []
    },
    {
      "cell_type": "code",
      "source": [
        "names = ['Ramesh', 'Suresh', 'Mahesh']\n",
        "ages = [20, 22, 24]\n",
        "d = {}\n",
        "for i,j in zip(names, ages):\n",
        "  d[i] = j\n",
        "d"
      ],
      "metadata": {
        "colab": {
          "base_uri": "https://localhost:8080/"
        },
        "id": "rZmzll4wlbsZ",
        "outputId": "885a8366-6f36-4766-d854-76596ae7ba99"
      },
      "execution_count": 12,
      "outputs": [
        {
          "output_type": "execute_result",
          "data": {
            "text/plain": [
              "{'Ramesh': 20, 'Suresh': 22, 'Mahesh': 24}"
            ]
          },
          "metadata": {},
          "execution_count": 12
        }
      ]
    },
    {
      "cell_type": "code",
      "source": [
        "numbers = [20, 21, 22]\n",
        "d2= {}\n",
        "for i in numbers:\n",
        "  if i%2 == 0:\n",
        "    d2[i] = 'even'\n",
        "  else:\n",
        "    d2[i] = 'odd'\n",
        "d2"
      ],
      "metadata": {
        "colab": {
          "base_uri": "https://localhost:8080/"
        },
        "id": "vxsbpYpmmTV5",
        "outputId": "524387c4-400b-4e76-ec00-4664c539e22a"
      },
      "execution_count": 15,
      "outputs": [
        {
          "output_type": "execute_result",
          "data": {
            "text/plain": [
              "{20: 'even', 21: 'odd', 22: 'even'}"
            ]
          },
          "metadata": {},
          "execution_count": 15
        }
      ]
    },
    {
      "cell_type": "code",
      "source": [
        "names = ['Ramesh', 'Suresh', 'Mahesh']\n",
        "ages = [20, 22, 24]\n",
        "\n",
        "{d[i] = j for i,j in zip(names, ages)}"
      ],
      "metadata": {
        "colab": {
          "base_uri": "https://localhost:8080/",
          "height": 106
        },
        "id": "Bng6eTPYnlTn",
        "outputId": "4aa06c65-e805-4ce4-b89b-caa8a07c6cea"
      },
      "execution_count": 16,
      "outputs": [
        {
          "output_type": "error",
          "ename": "SyntaxError",
          "evalue": "cannot assign to subscript here. Maybe you meant '==' instead of '='? (ipython-input-1040104624.py, line 4)",
          "traceback": [
            "\u001b[0;36m  File \u001b[0;32m\"/tmp/ipython-input-1040104624.py\"\u001b[0;36m, line \u001b[0;32m4\u001b[0m\n\u001b[0;31m    {d[i] = j for i,j in zip(names, ages)}\u001b[0m\n\u001b[0m     ^\u001b[0m\n\u001b[0;31mSyntaxError\u001b[0m\u001b[0;31m:\u001b[0m cannot assign to subscript here. Maybe you meant '==' instead of '='?\n"
          ]
        }
      ]
    },
    {
      "cell_type": "code",
      "source": [
        "names = ['Ramesh', 'Suresh', 'Mahesh']\n",
        "ages = [20, 22, 24]\n",
        "\n",
        "{i:j for i,j in zip(names, ages)}"
      ],
      "metadata": {
        "colab": {
          "base_uri": "https://localhost:8080/"
        },
        "id": "xcVPwUY3n5_I",
        "outputId": "f1b78e48-91bf-4dc1-ded0-1d32b6f2a190"
      },
      "execution_count": 17,
      "outputs": [
        {
          "output_type": "execute_result",
          "data": {
            "text/plain": [
              "{'Ramesh': 20, 'Suresh': 22, 'Mahesh': 24}"
            ]
          },
          "metadata": {},
          "execution_count": 17
        }
      ]
    },
    {
      "cell_type": "code",
      "source": [
        "numbers = [20, 21, 22]\n",
        "d2= {}\n",
        "for i in numbers:\n",
        "  if i%2 == 0:\n",
        "    d2[i] = 'even'\n",
        "  else:\n",
        "    d2[i] = 'odd'\n",
        "d2\n",
        "\n",
        "{i: 'even' if i%2==0 else 'odd' for i in numbers}"
      ],
      "metadata": {
        "colab": {
          "base_uri": "https://localhost:8080/"
        },
        "id": "Wt_3o0TPn9Zj",
        "outputId": "66260dc4-de6a-44e4-dd29-39949540d948"
      },
      "execution_count": 22,
      "outputs": [
        {
          "output_type": "execute_result",
          "data": {
            "text/plain": [
              "{20: 'even', 21: 'odd', 22: 'even'}"
            ]
          },
          "metadata": {},
          "execution_count": 22
        }
      ]
    },
    {
      "cell_type": "markdown",
      "source": [
        "multi index"
      ],
      "metadata": {
        "id": "C4PiItR1pZ9_"
      }
    },
    {
      "cell_type": "code",
      "source": [
        "d = {'fruits': ['Apple', 'Banana', 'Cherry']}\n",
        "d['fruits'][2]"
      ],
      "metadata": {
        "colab": {
          "base_uri": "https://localhost:8080/",
          "height": 36
        },
        "id": "Jc4fC53fpbIe",
        "outputId": "77e37b53-f1c0-48d9-878f-fcbbc13d0e19"
      },
      "execution_count": 23,
      "outputs": [
        {
          "output_type": "execute_result",
          "data": {
            "text/plain": [
              "'Cherry'"
            ],
            "application/vnd.google.colaboratory.intrinsic+json": {
              "type": "string"
            }
          },
          "metadata": {},
          "execution_count": 23
        }
      ]
    },
    {
      "cell_type": "code",
      "source": [
        "d = {'fruits':{'Apple':['Kashmir']}}\n",
        "d['fruits']['Apple'][0]"
      ],
      "metadata": {
        "colab": {
          "base_uri": "https://localhost:8080/",
          "height": 36
        },
        "id": "2H5IdzlLqAAw",
        "outputId": "5dd14061-3a0a-4e6d-cbf3-f8b634a5f43a"
      },
      "execution_count": 24,
      "outputs": [
        {
          "output_type": "execute_result",
          "data": {
            "text/plain": [
              "'Kashmir'"
            ],
            "application/vnd.google.colaboratory.intrinsic+json": {
              "type": "string"
            }
          },
          "metadata": {},
          "execution_count": 24
        }
      ]
    },
    {
      "cell_type": "code",
      "source": [
        "d = {'fruits': [ {'Apple': ['green apple']}]}\n",
        "d['fruits'][0]['Apple'][0]"
      ],
      "metadata": {
        "colab": {
          "base_uri": "https://localhost:8080/",
          "height": 36
        },
        "id": "7O4VWehkqZst",
        "outputId": "d0d534e4-2835-4c67-e5da-2dc752264c14"
      },
      "execution_count": 25,
      "outputs": [
        {
          "output_type": "execute_result",
          "data": {
            "text/plain": [
              "'green apple'"
            ],
            "application/vnd.google.colaboratory.intrinsic+json": {
              "type": "string"
            }
          },
          "metadata": {},
          "execution_count": 25
        }
      ]
    },
    {
      "cell_type": "code",
      "source": [
        "d = {'fruits': [{'Apple': [{'kashmir':[{'India': ['Naresh IT']}]}]}]}\n",
        "d['fruits'][0]['Apple'][0]['kashmir'][0]['India'][0]"
      ],
      "metadata": {
        "colab": {
          "base_uri": "https://localhost:8080/",
          "height": 36
        },
        "id": "fs2v_ECBrAUe",
        "outputId": "1a60c794-f0fe-419d-b28b-1d7c6a51a313"
      },
      "execution_count": 27,
      "outputs": [
        {
          "output_type": "execute_result",
          "data": {
            "text/plain": [
              "'Naresh IT'"
            ],
            "application/vnd.google.colaboratory.intrinsic+json": {
              "type": "string"
            }
          },
          "metadata": {},
          "execution_count": 27
        }
      ]
    },
    {
      "cell_type": "code",
      "source": [
        "dir({})"
      ],
      "metadata": {
        "colab": {
          "base_uri": "https://localhost:8080/"
        },
        "id": "DkhabiUPr9pA",
        "outputId": "ec85545c-d696-467b-e32a-2729beb99d23"
      },
      "execution_count": 29,
      "outputs": [
        {
          "output_type": "execute_result",
          "data": {
            "text/plain": [
              "['__class__',\n",
              " '__class_getitem__',\n",
              " '__contains__',\n",
              " '__delattr__',\n",
              " '__delitem__',\n",
              " '__dir__',\n",
              " '__doc__',\n",
              " '__eq__',\n",
              " '__format__',\n",
              " '__ge__',\n",
              " '__getattribute__',\n",
              " '__getitem__',\n",
              " '__getstate__',\n",
              " '__gt__',\n",
              " '__hash__',\n",
              " '__init__',\n",
              " '__init_subclass__',\n",
              " '__ior__',\n",
              " '__iter__',\n",
              " '__le__',\n",
              " '__len__',\n",
              " '__lt__',\n",
              " '__ne__',\n",
              " '__new__',\n",
              " '__or__',\n",
              " '__reduce__',\n",
              " '__reduce_ex__',\n",
              " '__repr__',\n",
              " '__reversed__',\n",
              " '__ror__',\n",
              " '__setattr__',\n",
              " '__setitem__',\n",
              " '__sizeof__',\n",
              " '__str__',\n",
              " '__subclasshook__',\n",
              " 'clear',\n",
              " 'copy',\n",
              " 'fromkeys',\n",
              " 'get',\n",
              " 'items',\n",
              " 'keys',\n",
              " 'pop',\n",
              " 'popitem',\n",
              " 'setdefault',\n",
              " 'update',\n",
              " 'values']"
            ]
          },
          "metadata": {},
          "execution_count": 29
        }
      ]
    },
    {
      "cell_type": "code",
      "source": [
        " 'clear', #clears dictionary\n",
        " 'copy', #copies dictionary\n",
        " 'fromkeys',  #dictionary\n",
        " 'get', #access\n",
        " 'items', #keys and values are retrieved\n",
        " 'keys', #only keys\n",
        " 'pop', #delete\n",
        " 'popitem', #delete\n",
        " 'setdefault',#setting default values\n",
        " 'update', # similar to l1.extend(l2) since d1+d2 fail\n",
        " 'values' #only values"
      ],
      "metadata": {
        "id": "cPs26EqBsElE"
      },
      "execution_count": null,
      "outputs": []
    }
  ]
}