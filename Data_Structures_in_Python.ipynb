{
  "nbformat": 4,
  "nbformat_minor": 0,
  "metadata": {
    "colab": {
      "provenance": []
    },
    "kernelspec": {
      "name": "python3",
      "display_name": "Python 3"
    },
    "language_info": {
      "name": "python"
    }
  },
  "cells": [
    {
      "cell_type": "markdown",
      "source": [
        "##1. Simple range\n",
        "Print the numbers from 0 to 4 using a `for` loop and `range()`."
      ],
      "metadata": {
        "id": "n6zzM5Tr3C72"
      }
    },
    {
      "cell_type": "code",
      "execution_count": null,
      "metadata": {
        "colab": {
          "base_uri": "https://localhost:8080/"
        },
        "id": "LFCkdASg22N3",
        "outputId": "a4afeb7c-94a2-46a3-cbc2-33a1b6d38bea"
      },
      "outputs": [
        {
          "output_type": "stream",
          "name": "stdout",
          "text": [
            "0\n",
            "1\n",
            "2\n",
            "3\n",
            "4\n"
          ]
        }
      ],
      "source": [
        "for i in range(0, 5):\n",
        "  print(i)"
      ]
    },
    {
      "cell_type": "markdown",
      "source": [
        "##2. Range with a starting point\n",
        "Simulate a countdown from 5 to 1. Print the numbers using a `for` loop with `range()`."
      ],
      "metadata": {
        "id": "dxg-Xc2_3QI8"
      }
    },
    {
      "cell_type": "code",
      "source": [
        "for r in range(5, 0, -1):\n",
        "  print(f\"{r} minutes remaining...\")\n",
        "print(\"Time Up!\")"
      ],
      "metadata": {
        "colab": {
          "base_uri": "https://localhost:8080/"
        },
        "id": "PB51FCoO3Rt-",
        "outputId": "f330052e-099e-4e14-ffb7-da67fd3ef5c0"
      },
      "execution_count": null,
      "outputs": [
        {
          "output_type": "stream",
          "name": "stdout",
          "text": [
            "5 minutes remaining...\n",
            "4 minutes remaining...\n",
            "3 minutes remaining...\n",
            "2 minutes remaining...\n",
            "1 minutes remaining...\n",
            "Time Up!\n"
          ]
        }
      ]
    },
    {
      "cell_type": "markdown",
      "source": [
        "##3. Range with step size\n",
        "Print every other number from 1 to 10 (i.e., 1, 3, 5, ...)."
      ],
      "metadata": {
        "id": "H-ww6FJZ3nkJ"
      }
    },
    {
      "cell_type": "code",
      "source": [
        "for i in range(1,11, 2):\n",
        "  print(i)"
      ],
      "metadata": {
        "colab": {
          "base_uri": "https://localhost:8080/"
        },
        "id": "aAZkWfxc3qis",
        "outputId": "b24d5101-bb13-41a3-8936-0329daf6d528"
      },
      "execution_count": null,
      "outputs": [
        {
          "output_type": "stream",
          "name": "stdout",
          "text": [
            "1\n",
            "3\n",
            "5\n",
            "7\n",
            "9\n"
          ]
        }
      ]
    },
    {
      "cell_type": "code",
      "source": [
        "for i in range(0,11, 2):\n",
        "  print(i)"
      ],
      "metadata": {
        "colab": {
          "base_uri": "https://localhost:8080/"
        },
        "id": "IHEzs_cO35Nz",
        "outputId": "e0aa899a-f744-4c4d-eb9e-1d91d699523c"
      },
      "execution_count": null,
      "outputs": [
        {
          "output_type": "stream",
          "name": "stdout",
          "text": [
            "0\n",
            "2\n",
            "4\n",
            "6\n",
            "8\n",
            "10\n"
          ]
        }
      ]
    },
    {
      "cell_type": "markdown",
      "source": [
        "##4. Iterating a list by index\n",
        "You have a list of weekly expenses: `[5000, 4800, 5500]`. Use `range()` to loop through the\n",
        "list by index and print each expense with its corresponding week number (e.g., \"Week 1:\n",
        "5000 INR\")."
      ],
      "metadata": {
        "id": "JdJEC6nl3lty"
      }
    },
    {
      "cell_type": "code",
      "source": [
        "weekly_expenses = [5000, 4800, 5500]\n",
        "sum = 0\n",
        "print(f\"Weekly Expenses Summary:\")\n",
        "for w in range(len(weekly_expenses)):\n",
        "  print(f\"Week {w+1}: {weekly_expenses[w]} INR\")\n",
        "  sum += weekly_expenses[w]\n",
        "print(f\"Total expenses: {sum} INR\")"
      ],
      "metadata": {
        "colab": {
          "base_uri": "https://localhost:8080/"
        },
        "id": "cSBIJnHR4DX9",
        "outputId": "93e6c611-090b-4f39-e1c4-8cc7b0934162"
      },
      "execution_count": null,
      "outputs": [
        {
          "output_type": "stream",
          "name": "stdout",
          "text": [
            "Weekly Expenses Summary:\n",
            "Week 1: 5000 INR\n",
            "Week 2: 4800 INR\n",
            "Week 3: 5500 INR\n",
            "Total expenses: 15300 INR\n"
          ]
        }
      ]
    },
    {
      "cell_type": "markdown",
      "source": [
        "##5. Reverse range\n",
        "Use `range()` to print numbers from 10 down to 1."
      ],
      "metadata": {
        "id": "LeO0q0215aqW"
      }
    },
    {
      "cell_type": "code",
      "source": [
        "for i in range(10, 0, -1):\n",
        "  print(i)"
      ],
      "metadata": {
        "colab": {
          "base_uri": "https://localhost:8080/"
        },
        "id": "6cKiRmNr5f17",
        "outputId": "2cfffecc-c763-4c4e-cb4c-df89eebd46a9"
      },
      "execution_count": null,
      "outputs": [
        {
          "output_type": "stream",
          "name": "stdout",
          "text": [
            "10\n",
            "9\n",
            "8\n",
            "7\n",
            "6\n",
            "5\n",
            "4\n",
            "3\n",
            "2\n",
            "1\n"
          ]
        }
      ]
    },
    {
      "cell_type": "markdown",
      "source": [
        "##6. Summing numbers in a range\n",
        "Calculate the sum of all numbers from 1 to 100. Print the result."
      ],
      "metadata": {
        "id": "XcLxbn3s5oVn"
      }
    },
    {
      "cell_type": "code",
      "source": [
        "sum = 0\n",
        "for i in range(100):\n",
        "  sum += i\n",
        "\n",
        "print(sum)"
      ],
      "metadata": {
        "colab": {
          "base_uri": "https://localhost:8080/"
        },
        "id": "efIpgkaj5sbn",
        "outputId": "9341edaf-71df-4e69-93e4-7c4ebaa71512"
      },
      "execution_count": null,
      "outputs": [
        {
          "output_type": "stream",
          "name": "stdout",
          "text": [
            "4950\n"
          ]
        }
      ]
    },
    {
      "cell_type": "markdown",
      "source": [
        "##7. Range and `if` condition\n",
        "Print all even numbers from 2 to 20 using `range()` and an `if` condition."
      ],
      "metadata": {
        "id": "VbKSF8CQsH2p"
      }
    },
    {
      "cell_type": "code",
      "source": [
        "for i in range(2, 21):\n",
        "  if i % 2 == 0:\n",
        "    print(i)"
      ],
      "metadata": {
        "colab": {
          "base_uri": "https://localhost:8080/"
        },
        "id": "sEzSXMqCCmjr",
        "outputId": "42570109-2fe9-449d-ba7c-e37475d10802"
      },
      "execution_count": null,
      "outputs": [
        {
          "output_type": "stream",
          "name": "stdout",
          "text": [
            "2\n",
            "4\n",
            "6\n",
            "8\n",
            "10\n",
            "12\n",
            "14\n",
            "16\n",
            "18\n",
            "20\n"
          ]
        }
      ]
    },
    {
      "cell_type": "markdown",
      "source": [
        "##8. Looping to create a list\n",
        "Create an empty list called `order_numbers`. Use a `for` loop and `range()` to add the first\n",
        "5 order numbers (101, 102, 103, 104, 105) to this list."
      ],
      "metadata": {
        "id": "URLKQqvTC4rz"
      }
    },
    {
      "cell_type": "code",
      "source": [
        "order_numbers = []\n",
        "for i in range(101, 106):\n",
        "  order_numbers.append(i)\n",
        "print(order_numbers)"
      ],
      "metadata": {
        "colab": {
          "base_uri": "https://localhost:8080/"
        },
        "id": "6w6_UsFGC8Be",
        "outputId": "b9742a01-f2e9-48a8-8feb-2e92d656446d"
      },
      "execution_count": null,
      "outputs": [
        {
          "output_type": "stream",
          "name": "stdout",
          "text": [
            "[101, 102, 103, 104, 105]\n"
          ]
        }
      ]
    },
    {
      "cell_type": "markdown",
      "source": [
        "##9. Range with two lists\n",
        "You have two lists: `products = ['Vanilla', 'Chocolate']` and `prices = [100, 110]`. Use\n",
        "`range()` with the length of one of the lists to print each product and its price on a\n",
        "separate line."
      ],
      "metadata": {
        "id": "-2P5AW89DRXe"
      }
    },
    {
      "cell_type": "code",
      "source": [
        "products = ['Vanilla', 'Chocolate']\n",
        "prices = [100, 110]\n",
        "for i in range(len(products)):\n",
        "  print(f\"{products[i]}: {prices[i]:.2f} INR.\")"
      ],
      "metadata": {
        "colab": {
          "base_uri": "https://localhost:8080/"
        },
        "id": "Nwgz5hP7DVn1",
        "outputId": "04f717b3-79d6-489d-82eb-2725c71ac80c"
      },
      "execution_count": null,
      "outputs": [
        {
          "output_type": "stream",
          "name": "stdout",
          "text": [
            "Vanilla: 100.00 INR.\n",
            "Chocolate: 110.00 INR.\n"
          ]
        }
      ]
    },
    {
      "cell_type": "markdown",
      "source": [
        "##10. Negative step size with range\n",
        "Print the odd numbers from 9 down to 1."
      ],
      "metadata": {
        "id": "K62iaAdBExvJ"
      }
    },
    {
      "cell_type": "code",
      "source": [
        "for s in range(9,0,-1):\n",
        "  if s % 2 != 0:\n",
        "    print(s)"
      ],
      "metadata": {
        "colab": {
          "base_uri": "https://localhost:8080/"
        },
        "id": "rHAWRHPJEy_E",
        "outputId": "66384c88-f69e-41a9-c424-8d365339b254"
      },
      "execution_count": null,
      "outputs": [
        {
          "output_type": "stream",
          "name": "stdout",
          "text": [
            "9\n",
            "7\n",
            "5\n",
            "3\n",
            "1\n"
          ]
        }
      ]
    },
    {
      "cell_type": "markdown",
      "source": [
        "##11. Looping a fixed number of times for input\n",
        "Ask the user to enter 3 new employee names. Use a `for` loop with `range()` to get the\n",
        "names and store them in a list."
      ],
      "metadata": {
        "id": "lhmv2zFBFF1A"
      }
    },
    {
      "cell_type": "code",
      "source": [
        "employee_names=[]\n",
        "for j in range(3):\n",
        "  employee_names.append(input(\"Enter employee name: \").title())\n",
        "print(f\"The 3 new employees are: {employee_names}\")\n"
      ],
      "metadata": {
        "colab": {
          "base_uri": "https://localhost:8080/"
        },
        "id": "U2izx9WTFHGE",
        "outputId": "c3eb272a-380c-4f34-b579-1a43d25a531f"
      },
      "execution_count": null,
      "outputs": [
        {
          "output_type": "stream",
          "name": "stdout",
          "text": [
            "Enter employee name: sravanthi kanu\n",
            "Enter employee name: madhu zairi\n",
            "Enter employee name: pramod C\n",
            "The 3 new employees are: ['Sravanthi Kanu', 'Madhu Zairi', 'Pramod C']\n"
          ]
        }
      ]
    },
    {
      "cell_type": "markdown",
      "source": [
        "##12. Using `range` to populate a dictionary\n",
        "Create a dictionary to hold daily sales targets for 5 days. Use a `for` loop with `range()` to\n",
        "initialize the dictionary with keys `Day 1` through `Day 5` and a default value of `10000`\n",
        "for each."
      ],
      "metadata": {
        "id": "3qNoeiZuJHRs"
      }
    },
    {
      "cell_type": "code",
      "source": [
        "daily_sales_targets = {}\n",
        "for d in range(5):\n",
        "  daily_sales_targets[f\"Day {d+1}\"] = 10000\n",
        "print(f\"Daily sales targets are as follows: {daily_sales_targets}\")"
      ],
      "metadata": {
        "colab": {
          "base_uri": "https://localhost:8080/"
        },
        "id": "0JZrHj1dJJGc",
        "outputId": "941ff5ae-05aa-429d-afce-2269ed3e2e62"
      },
      "execution_count": null,
      "outputs": [
        {
          "output_type": "stream",
          "name": "stdout",
          "text": [
            "Daily sales targets are as follows: {'Day 1': 10000, 'Day 2': 10000, 'Day 3': 10000, 'Day 4': 10000, 'Day 5': 10000}\n"
          ]
        }
      ]
    },
    {
      "cell_type": "markdown",
      "source": [
        "##13. Finding a factorial using a loop and range\n",
        "Calculate the factorial of 5 (5!) using a loop and `range()`. The factorial of 5 is '5 * 4 * 3 * 2* 1'. Print the result."
      ],
      "metadata": {
        "id": "WX63ck9hKLvl"
      }
    },
    {
      "cell_type": "code",
      "source": [
        "prod = 1\n",
        "fact_num = int(input(\"Enter the factorial number: \"))\n",
        "for i in range(fact_num, 0, -1):\n",
        "  prod *= i\n",
        "print(f\"Factorial of {fact_num} is {prod}\")"
      ],
      "metadata": {
        "colab": {
          "base_uri": "https://localhost:8080/"
        },
        "id": "S7vAFwQoMI4s",
        "outputId": "7140a5e5-c2b0-4062-ed89-711cad1d832b"
      },
      "execution_count": null,
      "outputs": [
        {
          "output_type": "stream",
          "name": "stdout",
          "text": [
            "Enter the factorial number: 5\n",
            "Factorial of 5 is 120\n"
          ]
        }
      ]
    },
    {
      "cell_type": "markdown",
      "source": [
        "##14. Nested loops with range\n",
        "Print a simple 3x3 grid of asterisks (`*`) using nested `for` loops and `range()`. The outer\n",
        "loop should control rows, and the inner loop should control columns."
      ],
      "metadata": {
        "id": "lPvWNT8UVXY7"
      }
    },
    {
      "cell_type": "code",
      "source": [
        "for i in range(3):\n",
        "  for j in range(3):\n",
        "    print(f\"*\", end=\"\")\n",
        "\n",
        "  print()"
      ],
      "metadata": {
        "colab": {
          "base_uri": "https://localhost:8080/"
        },
        "id": "F3KNfYBWVZYa",
        "outputId": "d0429560-e9f7-4210-d779-a66560674fb1"
      },
      "execution_count": null,
      "outputs": [
        {
          "output_type": "stream",
          "name": "stdout",
          "text": [
            "***\n",
            "***\n",
            "***\n"
          ]
        }
      ]
    },
    {
      "cell_type": "markdown",
      "source": [
        "##15. Range with a `while` loop\n",
        "Use a `while` loop to print numbers from 0 to 4. Do not use a `for` loop for this problem.\n",
        "This is a practice to show the flexibility of loop structures."
      ],
      "metadata": {
        "id": "OEAlO3WvXDDe"
      }
    },
    {
      "cell_type": "code",
      "source": [
        "j= int(input(\"Enter the starting number: \"))\n",
        "while True:\n",
        "    print(j)\n",
        "    j += 1\n",
        "    if j == 5:\n",
        "      break\n",
        "\n",
        "\n"
      ],
      "metadata": {
        "colab": {
          "base_uri": "https://localhost:8080/"
        },
        "id": "rM3PK5z2XEyL",
        "outputId": "d1f1510e-87b5-4512-8252-e522c1ccd496"
      },
      "execution_count": 4,
      "outputs": [
        {
          "output_type": "stream",
          "name": "stdout",
          "text": [
            "Enter the starting number: 0\n",
            "0\n",
            "1\n",
            "2\n",
            "3\n",
            "4\n"
          ]
        }
      ]
    },
    {
      "cell_type": "code",
      "source": [],
      "metadata": {
        "id": "-tlMeA-sXOf8"
      },
      "execution_count": null,
      "outputs": []
    }
  ]
}